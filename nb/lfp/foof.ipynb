{
 "cells": [
  {
   "cell_type": "code",
   "execution_count": 1,
   "id": "initial_id",
   "metadata": {
    "collapsed": true,
    "ExecuteTime": {
     "end_time": "2023-10-17T14:08:58.246160850Z",
     "start_time": "2023-10-17T14:08:51.915022485Z"
    }
   },
   "outputs": [
    {
     "name": "stderr",
     "output_type": "stream",
     "text": [
      "INFO: Filtering data with bandpass (0.1, 100)\n"
     ]
    }
   ],
   "source": [
    "from __future__ import annotations\n",
    "\n",
    "from pathlib import Path\n",
    "\n",
    "import mne\n",
    "import numpy as np\n",
    "import seaborn as sns\n",
    "from matplotlib import pyplot as plt\n",
    "import mne_connectivity\n",
    "from cpl_pipeline.extraction.oscillations import LfpSignal, get_data\n",
    "from cpl_pipeline.logs import logger\n",
    "\n",
    "# Setup functions, classes and styles\n",
    "logger.setLevel(\"INFO\")\n",
    "sns.set_style(\"darkgrid\")\n",
    "plt.rcParams.update({\n",
    "    'font.size': 20,\n",
    "    'font.weight': 'bold',\n",
    "    'axes.labelweight': 'bold',\n",
    "    'axes.titleweight': 'bold',\n",
    "    'text.color': 'white',\n",
    "    'axes.labelcolor': 'white',\n",
    "    'xtick.color': 'white',\n",
    "    'ytick.color': 'white',\n",
    "    'axes.facecolor': '#282c36',  # dark inner background\n",
    "    'axes.edgecolor': 'white',\n",
    "    'figure.facecolor': 'black',  # black outer background\n",
    "    'grid.color': 'white',\n",
    "    'grid.alpha': 0.7,\n",
    "    'grid.linestyle': '--'\n",
    "})\n",
    "\n",
    "data_path = Path().home() / \"data\" / \"extracted\" / \"dk1\"\n",
    "file = list(data_path.glob(\"*dk1*.h5\"))[0]\n",
    "df_s, df_t, events, event_times = get_data(file)\n",
    "unique_events = np.unique(events)\n",
    "key = {\n",
    "    \"0\": \"dug incorrectly\",\n",
    "    \"1\": \"dug correctly\",\n",
    "    \"x\": \"crossed over (no context)\",\n",
    "    \"b\": \"crossed over into the black room\",\n",
    "    \"w\": \"crossed over into the white room\",\n",
    "}\n",
    "fs = 2000\n",
    "lfp = LfpSignal(df_s, df_t, event_arr=events, ev_times_arr=event_times, fs=2000, filename=file,\n",
    "                exclude=[\"LFP1_AON\", \"LFP2_AON\"])\n",
    "lfp.bandpass = (0.1, 100)\n",
    "save_outer = Path().home() / 'data' / 'figures'\n",
    "save_outer.mkdir(exist_ok=True, parents=True)"
   ]
  },
  {
   "cell_type": "markdown",
   "source": [
    "# Data Exploration\n",
    "1) Show the first 4 channels"
   ],
   "metadata": {
    "collapsed": false
   },
   "id": "8fc5f7ac0f66b5c7"
  },
  {
   "cell_type": "code",
   "execution_count": null,
   "outputs": [],
   "source": [
    "# Plot each channel ------------------------\n",
    "num_channels = len(lfp.spikes.columns)\n",
    "first_4_seconds = int(2 * fs)\n",
    "ticks = np.arange(0, first_4_seconds + fs, fs)\n",
    "labs = [\"0\", \"1\", \"2\"]\n",
    "\n",
    "fig, axes = plt.subplots(num_channels, 1, figsize=(50, 40), sharex=True)\n",
    "plt.xlabel(\"Time (ms)\")\n",
    "plt.ylabel(\"Voltage (uV)\")\n",
    "plt.xticks(ticks, labs)\n",
    "\n",
    "for i, channel in enumerate(lfp.spikes.columns):\n",
    "    ax = axes[i]\n",
    "    ax.plot(lfp.spikes[channel][:first_4_seconds])\n",
    "    t = lfp.spikes[channel][:first_4_seconds]\n",
    "    ax.set_ylabel(\"Voltage (uV)\")\n",
    "    ax.set_title(channel)\n",
    "    ax.grid(True)\n",
    "\n",
    "fig.suptitle(f\"First 2s of {lfp.filename.stem}\", fontsize=50)\n",
    "plt.savefig(save_outer / 'channels.png', facecolor='black', bbox_inches='tight',)"
   ],
   "metadata": {
    "collapsed": false
   },
   "id": "d1f15c33be3083ec"
  },
  {
   "cell_type": "markdown",
   "source": [
    "# Show morlet wavelet transform for a single channel, each event type"
   ],
   "metadata": {
    "collapsed": false
   },
   "id": "effc35cc4fdc0fee"
  },
  {
   "cell_type": "code",
   "execution_count": null,
   "outputs": [],
   "source": [
    "pre_t = 1\n",
    "post_t = 0\n",
    "x = 0\n",
    "for letter, digit, spikes_window_df in lfp.get_windows(pre_t, post_t):\n",
    "    \n",
    "    if spikes_window_df.empty:\n",
    "        print(f\"Skipping empty DataFrame for {letter}, {digit}\")\n",
    "        continue\n",
    "        \n",
    "    channel = \"LFP3_AON\"\n",
    "    x += 1\n",
    "    if x < 4:\n",
    "        continue\n",
    "    spikes = np.array(spikes_window_df[channel])\n",
    "    freqs = np.arange(1, 100, 6)\n",
    "    start_idx = spikes_window_df.index[0]\n",
    "    end_idx = spikes_window_df.index[-1]\n",
    "\n",
    "    time_range_in_seconds = (end_idx - start_idx) / fs\n",
    "\n",
    "    # Generate ticks and labels based on the time range\n",
    "    ticks = np.linspace(start_idx, end_idx, num=5)  # 5 ticks as an example\n",
    "    tick_labels = np.linspace(0, time_range_in_seconds, num=5)\n",
    "    start_idx = spikes_window_df.index[0]\n",
    "    end_idx = spikes_window_df.index[-1]\n",
    "    \n",
    "    info = mne.create_info(ch_names=list(map(str, np.arange(1, 2, 1))), sfreq=fs, ch_types=['eeg'])\n",
    "    epoch = np.empty((1, 1, len(np.arange(start_idx, end_idx + 1, 1))))\n",
    "    epoch[0, 0, :] = spikes\n",
    "    epoch = mne.EpochsArray(epoch, info, verbose=False)\n",
    "    n_cycles = freqs / 2\n",
    "    tf_pow = mne.time_frequency.tfr_morlet(epoch, freqs=freqs, n_cycles=n_cycles, return_itc=False, average=False,\n",
    "                                           verbose=False)\n",
    "    baseline_max = tf_pow.times[-1]\n",
    "    tf_pow.apply_baseline(mode='zscore', baseline=(0, baseline_max))\n",
    "    tf_pow.data = np.squeeze(tf_pow.data)\n",
    "    \n",
    "    fig, axs = plt.subplots(1, 2, figsize=(20, 10), sharex=True)\n",
    "    plt.suptitle(f\"{channel}: {digit, letter}\")\n",
    "\n",
    "    # Time-frequency plot\n",
    "    ax = axs[0]\n",
    "    ax.imshow(tf_pow.data, extent=[start_idx, end_idx, tf_pow.freqs[0], tf_pow.freqs[-1]],\n",
    "              aspect='auto', origin='lower', cmap='jet')\n",
    "    ax.set_xticks(ticks)\n",
    "    ax.set_xticklabels(np.round(tick_labels, 2))\n",
    "    ax.set_xlabel('Time (s)')\n",
    "    ax.set_ylabel('Frequency (Hz)')\n",
    "\n",
    "    # Voltage trace plot\n",
    "    ax = axs[1]\n",
    "    ax.plot(np.arange(start_idx, end_idx + 1), spikes)\n",
    "    ax.set_xlabel('Time (s)')\n",
    "    ax.set_ylabel('Voltage (uV)')\n",
    "\n",
    "    plt.tight_layout(rect=[0, 0, 1, 0.96])\n",
    "    \n",
    "# relative_times = [-2000, 1500]\n",
    "# for event, evt in zip(lfp.events, lfp.event_times):\n",
    "#     if event in [\"0\", \"1\", \"00\", \"01\", \"10\", \"11\"]:\n",
    "#         continue\n",
    "#     elif event == \"b\":\n",
    "#         continue\n",
    "#     time_segment = [int(evt * fs) + relative_times[0], int(evt * fs) + relative_times[1]]\n",
    "# \n",
    "#     info = mne.create_info(ch_names=list(map(str, np.arange(1, 2, 1))), sfreq=fs, ch_types=['eeg'])\n",
    "#     epoch = np.empty((1, 1, len(np.arange(time_segment[0], time_segment[1], 1))))\n",
    "#     epoch[0, 0, :] = lfp.spikes[channel][\n",
    "#                      time_segment[0]:time_segment[1]]  #Format data into [epochs, channels, samples] format\n",
    "#     epoch = mne.EpochsArray(epoch, info, verbose=False)\n",
    "#     freqs = np.arange(1, 100, 4)\n",
    "#     n_cycles = freqs / 2\n",
    "#     tf_pow = mne.time_frequency.tfr_morlet(epoch, freqs=freqs, n_cycles=n_cycles, return_itc=False, average=False,\n",
    "#                                            verbose=False)\n",
    "#     baseline_max = tf_pow.times[-1]  # Last time point in epochs data\n",
    "#     tf_pow.apply_baseline(mode='zscore', baseline=(0, baseline_max))\n",
    "#     tf_pow.data = np.squeeze(tf_pow.data)\n",
    "#     fig, ax = plt.subplots(1, 2, figsize=(20, 10))\n",
    "#     plt.suptitle(f\"{channel} {event} {time_segment}\")\n",
    "#     ax[0].plot(lfp.spikes[channel][time_segment[0]:time_segment[1]])\n",
    "#     ax[0].set_title(\"Raw Data\")\n",
    "#     ax[0].set_xlabel(\"Time (ms)\")\n",
    "#     ax[0].set_ylabel(\"Voltage (uV)\")\n",
    "#     ax[1].imshow(tf_pow.data, extent=[relative_times[0], relative_times[1], tf_pow.freqs[0], tf_pow.freqs[-1]],\n",
    "#                  aspect='auto', origin='lower', cmap='jet')\n",
    "#     plt.xlim([0, 1000])\n",
    "#     plt.xlabel('Time (ms)')\n",
    "#     plt.ylabel('Frequency (Hz)')"
   ],
   "metadata": {
    "collapsed": false
   },
   "id": "43c8fd4da5d0aea2"
  },
  {
   "cell_type": "markdown",
   "source": [
    "# Compare coherence in time domain"
   ],
   "metadata": {
    "collapsed": false
   },
   "id": "83314ac63a3d09fe"
  },
  {
   "cell_type": "code",
   "execution_count": 2,
   "outputs": [
    {
     "name": "stdout",
     "output_type": "stream",
     "text": [
      "Fmin was not specified. Using fmin=min(freqs)\n",
      "Fmax was not specified. Using fmax=max(freqs).\n",
      "Connectivity computation...\n",
      "   Processing epoch 1 / 1 ...\n",
      "[Connectivity computation done]\n"
     ]
    },
    {
     "name": "stderr",
     "output_type": "stream",
     "text": [
      "/tmp/ipykernel_18793/507933727.py:37: RuntimeWarning: There were no Annotations stored in <EpochsArray |  1 events (all good), 0 – 1 s, baseline off, ~39 kB, data loaded,\n",
      " '1': 1>, so metadata was not modified.\n",
      "  con = mne_connectivity.spectral_connectivity_time(epochs, method='coh', sfreq=int(fs), mode='cwt_morlet', freqs=freqs, n_cycles=n_cycles, verbose=True)\n"
     ]
    },
    {
     "ename": "IndexError",
     "evalue": "too many indices for array: array is 3-dimensional, but 5 were indexed",
     "output_type": "error",
     "traceback": [
      "\u001B[0;31m---------------------------------------------------------------------------\u001B[0m",
      "\u001B[0;31mIndexError\u001B[0m                                Traceback (most recent call last)",
      "Cell \u001B[0;32mIn[2], line 40\u001B[0m\n\u001B[1;32m     37\u001B[0m con \u001B[38;5;241m=\u001B[39m mne_connectivity\u001B[38;5;241m.\u001B[39mspectral_connectivity_time(epochs, method\u001B[38;5;241m=\u001B[39m\u001B[38;5;124m'\u001B[39m\u001B[38;5;124mcoh\u001B[39m\u001B[38;5;124m'\u001B[39m, sfreq\u001B[38;5;241m=\u001B[39m\u001B[38;5;28mint\u001B[39m(fs), mode\u001B[38;5;241m=\u001B[39m\u001B[38;5;124m'\u001B[39m\u001B[38;5;124mcwt_morlet\u001B[39m\u001B[38;5;124m'\u001B[39m, freqs\u001B[38;5;241m=\u001B[39mfreqs, n_cycles\u001B[38;5;241m=\u001B[39mn_cycles, verbose\u001B[38;5;241m=\u001B[39m\u001B[38;5;28;01mTrue\u001B[39;00m)\n\u001B[1;32m     39\u001B[0m coh \u001B[38;5;241m=\u001B[39m con\u001B[38;5;241m.\u001B[39mget_data()\n\u001B[0;32m---> 40\u001B[0m coh \u001B[38;5;241m=\u001B[39m \u001B[43mcoh\u001B[49m\u001B[43m[\u001B[49m\u001B[38;5;241;43m0\u001B[39;49m\u001B[43m,\u001B[49m\u001B[38;5;241;43m0\u001B[39;49m\u001B[43m,\u001B[49m\u001B[38;5;241;43m1\u001B[39;49m\u001B[43m,\u001B[49m\u001B[43m:\u001B[49m\u001B[43m,\u001B[49m\u001B[43m:\u001B[49m\u001B[43m]\u001B[49m\n\u001B[1;32m     41\u001B[0m plt\u001B[38;5;241m.\u001B[39mimshow(np\u001B[38;5;241m.\u001B[39msqueeze(coh), extent\u001B[38;5;241m=\u001B[39m[times[\u001B[38;5;241m0\u001B[39m], times[\u001B[38;5;241m-\u001B[39m\u001B[38;5;241m1\u001B[39m], freqs[\u001B[38;5;241m0\u001B[39m], freqs[\u001B[38;5;241m-\u001B[39m\u001B[38;5;241m1\u001B[39m]], aspect\u001B[38;5;241m=\u001B[39m\u001B[38;5;124m'\u001B[39m\u001B[38;5;124mauto\u001B[39m\u001B[38;5;124m'\u001B[39m, origin\u001B[38;5;241m=\u001B[39m\u001B[38;5;124m'\u001B[39m\u001B[38;5;124mlower\u001B[39m\u001B[38;5;124m'\u001B[39m, cmap\u001B[38;5;241m=\u001B[39m\u001B[38;5;124m'\u001B[39m\u001B[38;5;124mjet\u001B[39m\u001B[38;5;124m'\u001B[39m)\n\u001B[1;32m     42\u001B[0m plt\u001B[38;5;241m.\u001B[39mxlabel(\u001B[38;5;124m'\u001B[39m\u001B[38;5;124mTime (s)\u001B[39m\u001B[38;5;124m'\u001B[39m)\n",
      "\u001B[0;31mIndexError\u001B[0m: too many indices for array: array is 3-dimensional, but 5 were indexed"
     ]
    }
   ],
   "source": [
    "\n",
    "pre_t = 1\n",
    "post_t = 0\n",
    "x = 0\n",
    "for letter, digit, spikes_window_df in lfp.get_windows(pre_t, post_t):\n",
    "    \n",
    "    if spikes_window_df.empty:\n",
    "        print(f\"Skipping empty DataFrame for {letter}, {digit}\")\n",
    "        continue\n",
    "        \n",
    "    channel = \"LFP3_AON\"\n",
    "    channel2 = \"LFP1_vHp\"\n",
    "    x += 1\n",
    "    if x < 4:\n",
    "        continue\n",
    "    spikes = np.array(spikes_window_df[channel])\n",
    "    spikes2 = np.array(spikes_window_df[channel2])\n",
    "\n",
    "    freqs = np.arange(1, 100, 6)\n",
    "    start_idx = spikes_window_df.index[0]\n",
    "    end_idx = spikes_window_df.index[-1]\n",
    "\n",
    "    time_range_in_seconds = (end_idx - start_idx) / fs\n",
    "\n",
    "    # Generate ticks and labels based on the time range\n",
    "    ticks = np.linspace(start_idx, end_idx, num=5)  # 5 ticks as an example\n",
    "    tick_labels = np.linspace(0, time_range_in_seconds, num=5)\n",
    "    times = np.arange(start_idx, end_idx + 1, 1) / fs\n",
    "    \n",
    "    info = mne.create_info(ch_names=list(map(str, np.arange(1, 3, 1))), sfreq=fs, ch_types=['eeg','eeg'])\n",
    "    epochs = np.empty((1, 2, len(times)))\n",
    "    epochs[0,0,:] = spikes\n",
    "    epochs[0,1,:] = spikes2\n",
    "    epochs = mne.EpochsArray(epochs, info, verbose=False)\n",
    "\n",
    "    n_cycles = freqs/2\n",
    "    con = mne_connectivity.spectral_connectivity_time(epochs, method='coh', sfreq=int(fs), mode='cwt_morlet', freqs=freqs, n_cycles=n_cycles, verbose=True)\n",
    "    \n",
    "    coh = con.get_data()\n",
    "    coh = coh[0,0,1,:,:]\n",
    "    plt.imshow(np.squeeze(coh), extent=[times[0], times[-1], freqs[0], freqs[-1]], aspect='auto', origin='lower', cmap='jet')\n",
    "    plt.xlabel('Time (s)')\n",
    "    plt.ylabel('Frequency (Hz)')\n"
   ],
   "metadata": {
    "collapsed": false,
    "ExecuteTime": {
     "end_time": "2023-10-17T14:14:33.185540597Z",
     "start_time": "2023-10-17T14:09:30.427051763Z"
    }
   },
   "id": "47d2fd9b61d47807"
  }
 ],
 "metadata": {
  "kernelspec": {
   "display_name": "Python 3",
   "language": "python",
   "name": "python3"
  },
  "language_info": {
   "codemirror_mode": {
    "name": "ipython",
    "version": 2
   },
   "file_extension": ".py",
   "mimetype": "text/x-python",
   "name": "python",
   "nbconvert_exporter": "python",
   "pygments_lexer": "ipython2",
   "version": "2.7.6"
  }
 },
 "nbformat": 4,
 "nbformat_minor": 5
}
