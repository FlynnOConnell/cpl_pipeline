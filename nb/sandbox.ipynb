{
 "cells": [
  {
   "cell_type": "code",
   "execution_count": null,
   "id": "initial_id",
   "metadata": {
    "collapsed": true
   },
   "outputs": [],
   "source": [
    "# Imports and setup\n",
    "from __future__ import annotations\n",
    "\n",
    "import itertools\n",
    "from pathlib import Path\n",
    "\n",
    "import numpy as np\n",
    "import pandas as pd\n",
    "import seaborn as sns\n",
    "\n",
    "\n",
    "from spk2extract.logs import logger\n",
    "from spk2extract.spk_io import spk_h5\n",
    "\n",
    "# Setup functions, classes and styles\n",
    "logger.setLevel(\"INFO\")\n",
    "sns.set_style(\"darkgrid\")\n",
    "\n",
    "def get_file(filepath: Path | str):\n",
    "    return spk_h5.read_h5(Path(filepath))\n",
    "\n",
    "def get_data(path: Path | str):\n",
    "    path = Path(path)\n",
    "    files = list(path.glob(\"*dk3*\"))\n",
    "    file = files[0]\n",
    "    h5_file = spk_h5.read_h5(path / file)\n",
    "    spikes_df = pd.DataFrame()\n",
    "    times_df = pd.DataFrame()\n",
    "    events_arr = h5_file[\"events\"][\"events\"]\n",
    "    spikedata = h5_file[\"spikedata\"]\n",
    "    for chan, data in spikedata.items():\n",
    "        if chan in [\"VERSION\", \"CLASS\", \"TITLE\"]:\n",
    "            continue\n",
    "        logger.info(f\"Channel: {chan}\")\n",
    "        spikes = data[\"spikes\"]\n",
    "        times = data[\"times\"]\n",
    "        spikes_df[chan] = spikes\n",
    "        times_df[chan] = times\n",
    "    return spikes_df, times_df, events_arr"
   ]
  }
 ],
 "metadata": {
  "kernelspec": {
   "display_name": "Python 3",
   "language": "python",
   "name": "python3"
  },
  "language_info": {
   "codemirror_mode": {
    "name": "ipython",
    "version": 2
   },
   "file_extension": ".py",
   "mimetype": "text/x-python",
   "name": "python",
   "nbconvert_exporter": "python",
   "pygments_lexer": "ipython2",
   "version": "2.7.6"
  }
 },
 "nbformat": 4,
 "nbformat_minor": 5
}
