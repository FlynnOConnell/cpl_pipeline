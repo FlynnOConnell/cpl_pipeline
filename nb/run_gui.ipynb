{
 "cells": [
  {
   "cell_type": "code",
   "execution_count": null,
   "outputs": [],
   "source": [
    "%load_ext autoreload\n",
    "%autoreload 2\n",
    "\n",
    "from pathlib import Path\n",
    "import os\n",
    "import sys\n",
    "from icecream import ic\n",
    "import cpl_pipeline as cpl\n",
    "from cpl_pipeline import gui as cpl_gui"
   ],
   "metadata": {
    "collapsed": false
   },
   "id": "ae77b2d578fef5d9"
  },
  {
   "cell_type": "code",
   "execution_count": null,
   "outputs": [],
   "source": [
    "path = cpl.userio\n",
    "# set Datapath for this recording\n",
    "datapath = Path().home() / 'data' / 'serotonin' / 'raw' / 'session_1'\n",
    "assert datapath.exists()\n"
   ],
   "metadata": {
    "collapsed": false
   },
   "id": "8cbd871f10984899"
  }
 ],
 "metadata": {
  "kernelspec": {
   "display_name": "Python 3",
   "language": "python",
   "name": "python3"
  },
  "language_info": {
   "codemirror_mode": {
    "name": "ipython",
    "version": 2
   },
   "file_extension": ".py",
   "mimetype": "text/x-python",
   "name": "python",
   "nbconvert_exporter": "python",
   "pygments_lexer": "ipython2",
   "version": "2.7.6"
  }
 },
 "nbformat": 4,
 "nbformat_minor": 5
}
