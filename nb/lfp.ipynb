{
 "cells": [
  {
   "cell_type": "markdown",
   "source": [
    "## LFP Analysis"
   ],
   "metadata": {
    "collapsed": false
   },
   "id": "85002bf404aeae0f"
  },
  {
   "cell_type": "code",
   "execution_count": null,
   "outputs": [],
   "source": [
    "# Imports and setup\n",
    "# Allow jupyter notebook to reload modules\n",
    "\n",
    "#%load_ext autoreload\n",
    "from __future__ import annotations\n",
    "\n",
    "import itertools\n",
    "from pathlib import Path\n",
    "\n",
    "import numpy as np\n",
    "import pandas as pd\n",
    "import seaborn as sns\n",
    "from matplotlib import pyplot as plt\n",
    "from fooof import FOOOF\n",
    "\n",
    "from spk2extract.logs import logger\n",
    "from spk2extract.extraction.oscillations import LfpSignal, get_data\n",
    "\n",
    "# Setup functions, classes and styles\n",
    "logger.setLevel(\"INFO\")\n",
    "sns.set_style(\"darkgrid\")\n",
    "\n",
    "data_path = Path().home() / \"data\" / \"extracted\" / \"dk1\"\n",
    "file = list(data_path.glob(\"*dk1*.h5\"))[0]\n",
    "df_s, df_t, events, event_times = get_data(file)\n",
    "unique_events = np.unique(events)\n",
    "key = {\n",
    "    \"0\": \"dug incorrectly\",\n",
    "    \"1\": \"dug correctly\",\n",
    "    \"x\": \"crossed over (no context)\",\n",
    "    \"b\": \"crossed over into the black room\",\n",
    "    \"w\": \"crossed over into the white room\",\n",
    "}\n",
    "fs = 2000\n",
    "lfp = LfpSignal(df_s, df_t, event_arr=events, ev_times_arr=event_times, fs=2000, filename=file, exclude=[\"LFP1_AON\", \"LFP2_AON\"])"
   ],
   "metadata": {
    "collapsed": false
   },
   "id": "4a605101c65237"
  },
  {
   "cell_type": "code",
   "execution_count": null,
   "outputs": [],
   "source": [
    "from scipy.signal import coherence\n",
    "\n",
    "# Get spikes for each event\n",
    "spikes = lfp.spikes \n",
    "aon_cols = [col for col in spikes.columns if 'AON' in col]\n",
    "\n",
    "df_aon = spikes[[col for col in spikes.columns if 'vHp' in col]]\n",
    "df_vhp = spikes[[col for col in spikes.columns if 'AON' in col]]\n",
    "\n",
    "coherence_sums = {}\n",
    "coherence_counts = {}\n",
    "windows = lfp.get_windows(3)"
   ],
   "metadata": {
    "collapsed": false
   },
   "id": "6547b1218797c1f2"
  },
  {
   "cell_type": "markdown",
   "source": [
    "## Plot Average Coherence across all trials"
   ],
   "metadata": {
    "collapsed": false
   },
   "id": "25880a8755e61eeb"
  },
  {
   "cell_type": "code",
   "execution_count": null,
   "outputs": [],
   "source": [
    "# Larger, bold font for plots and axis labels\n",
    "plt.rcParams.update({'font.size': 20, 'font.weight': 'bold', 'axes.labelweight': 'bold', 'axes.titleweight': 'bold'})\n",
    "num_keys = len(windows.keys())\n",
    "\n",
    "# Title for entire figure\n",
    "fig_title = f\"Coherence between AON and vHPC\"\n",
    "fig, axes = plt.subplots(1, num_keys, figsize=(12 * num_keys, 12), sharex=True, sharey=True)\n",
    "\n",
    "if num_keys == 1:\n",
    "    axes = [axes]\n",
    "\n",
    "axes = axes.flatten()\n",
    "axis_idx = 0\n",
    "\n",
    "y_min_global = float('inf')\n",
    "y_max_global = float('-inf')\n",
    "\n",
    "for window_key, window_list in windows.items():\n",
    "    \n",
    "    letter, digit = window_key.split('_')\n",
    "    correctness = 'Correct' if digit == '1' else 'Incorrect'\n",
    "    color = 'Black' if letter == 'b' else 'White'\n",
    "    title = f\"{correctness}, {color}\"\n",
    "    ax = axes[axis_idx]\n",
    "    axis_idx += 1\n",
    "\n",
    "    if not window_list:\n",
    "        ax.text(50, 0.5, 'No trials', ha='center', va='center')\n",
    "        ax.set_title(title)\n",
    "        continue\n",
    "    local_coherence_sums = {}\n",
    "    local_coherence_counts = {}\n",
    "\n",
    "    for window in window_list:\n",
    "\n",
    "        start_idx = int(window[0] * fs)\n",
    "        end_idx = int(window[1] * fs)\n",
    "\n",
    "        spike_window_aon = df_aon.iloc[start_idx:end_idx]\n",
    "        spike_window_vhp = df_vhp.iloc[start_idx:end_idx]\n",
    "        for col_aon, col_vhp in itertools.product(df_aon.columns, df_vhp.columns):\n",
    "\n",
    "            f, Cxy = coherence(spike_window_aon[col_aon], spike_window_vhp[col_vhp], fs=fs)\n",
    "            valid_idxs = np.where(f <= 100)[0]\n",
    "            f_filtered = f[valid_idxs]\n",
    "            Cxy_filtered = Cxy[valid_idxs]\n",
    "\n",
    "            pair_key = f\"{col_aon}_{col_vhp}\"\n",
    "            if pair_key not in local_coherence_sums:\n",
    "                local_coherence_sums[pair_key] = np.zeros_like(Cxy_filtered)\n",
    "                local_coherence_counts[pair_key] = 0\n",
    "\n",
    "            local_coherence_sums[pair_key] += Cxy_filtered\n",
    "            local_coherence_counts[pair_key] += 1\n",
    "\n",
    "    legend_labels = []\n",
    "    for pair_key, Cxy_sum in local_coherence_sums.items():\n",
    "\n",
    "        Cxy_avg = Cxy_sum / local_coherence_counts[pair_key]\n",
    "        ax.plot(f_filtered, Cxy_avg, label=pair_key)\n",
    "\n",
    "        # Update global y-axis limits\n",
    "        y_min_global = min(y_min_global, np.min(Cxy_avg))\n",
    "        y_max_global = max(y_max_global, np.max(Cxy_avg))\n",
    "        legend_labels.append(pair_key)\n",
    "\n",
    "    ax.set_title(title)\n",
    "    ax.set_xlabel('Frequency (Hz)')\n",
    "    ax.set_xlim(0, 100)\n",
    "    ax.grid(True)\n",
    "\n",
    "for ax in axes:\n",
    "    ax.set_ylim(y_min_global, y_max_global)\n",
    "    ax.set_ylabel('Coherence')\n",
    "# Remove y-labels from all but the first subplot\n",
    "axes[0].legend(legend_labels, loc='upper right')\n",
    "\n",
    "# Set title for entire figure\n",
    "fig.suptitle(fig_title, fontsize=30, fontweight='bold')\n",
    "plt.tight_layout(rect=[0, 0, 1, 0.96])  # Make room for suptitle and legend\n",
    "savepath = Path().home() / \"data\" / \"figures\" / \"coherence\"\n",
    "savepath.mkdir(exist_ok=True, parents=True)\n",
    "plt.savefig(savepath, dpi=300, bbox_inches='tight', pad_inches=0.1)\n"
   ],
   "metadata": {
    "collapsed": false
   },
   "id": "50550628365ad519"
  },
  {
   "cell_type": "markdown",
   "source": [
    "## Plot the Channels"
   ],
   "metadata": {
    "collapsed": false
   },
   "id": "24ae3a4e79c4b93e"
  },
  {
   "cell_type": "code",
   "execution_count": null,
   "outputs": [],
   "source": [
    "# Plot each channel ------------------------\n",
    "num_channels = len(lfp.spikes.columns)\n",
    "fig, axes = plt.subplots(num_channels, 1, figsize=(50, 40), sharex=True)\n",
    "plt.xlabel(\"Time (ms)\")\n",
    "plt.ylabel(\"Voltage (uV)\")\n",
    "first_4_seconds = int(1 * fs)\n",
    "ticks = [0, int(1.0 * fs), int(2.0 * fs), int(3.0 * fs), int(4.0 * fs)]\n",
    "labels = ['0', '1000', '2000', '3000', '4000']\n",
    "\n",
    "for i, channel in enumerate(lfp.spikes.columns):\n",
    "    ax = axes[i]\n",
    "    ax.plot(lfp.spikes[channel][:first_4_seconds])\n",
    "    t = lfp.spikes[channel][:first_4_seconds]\n",
    "    ax.set_ylabel(\"Voltage (uV)\")\n",
    "    ax.set_title(channel)\n",
    "    ax.grid(True)"
   ],
   "metadata": {
    "collapsed": false
   },
   "id": "dc99821686aae2ac"
  },
  {
   "cell_type": "code",
   "execution_count": null,
   "outputs": [],
   "source": [
    "vhp1 = lfp.spikes['LFP1_vHp']\n",
    "vhp2 = lfp.spikes['LFP2_vHp']\n",
    "fig, axes = plt.subplots(1, 1, figsize=(50, 10), sharex=True)\n",
    "\n",
    "# Overlay plots\n",
    "axes.plot(vhp1[:first_4_seconds], label='LFP1_vHp')\n",
    "axes.plot(vhp2[:first_4_seconds], label='LFP2_vHp', linestyle='--')\n",
    "axes.set_title('Overlay of LFP1_vHp and LFP2_vHp')\n",
    "axes.legend()\n",
    "\n",
    "# Labels and layout\n",
    "for ax in axes:\n",
    "    ax.set_xlabel(\"Time (ms)\")\n",
    "    ax.set_ylabel(\"Voltage (uV)\")\n",
    "\n",
    "plt.tight_layout()\n",
    "plt.show()"
   ],
   "metadata": {
    "collapsed": false
   },
   "id": "b6f942ff24be55f4"
  },
  {
   "cell_type": "markdown",
   "source": [
    "\n",
    "# FOOF"
   ],
   "metadata": {
    "collapsed": false
   },
   "id": "9824c870dec1550b"
  },
  {
   "cell_type": "code",
   "execution_count": 14,
   "outputs": [
    {
     "ename": "TypeError",
     "evalue": "unhashable type: 'slice'",
     "output_type": "error",
     "traceback": [
      "\u001B[0;31m---------------------------------------------------------------------------\u001B[0m",
      "\u001B[0;31mTypeError\u001B[0m                                 Traceback (most recent call last)",
      "Cell \u001B[0;32mIn[14], line 5\u001B[0m\n\u001B[1;32m      2\u001B[0m \u001B[38;5;28;01mimport\u001B[39;00m \u001B[38;5;21;01mstring\u001B[39;00m\n\u001B[1;32m      3\u001B[0m \u001B[38;5;28;01mfrom\u001B[39;00m \u001B[38;5;21;01mscipy\u001B[39;00m\u001B[38;5;21;01m.\u001B[39;00m\u001B[38;5;21;01msignal\u001B[39;00m \u001B[38;5;28;01mimport\u001B[39;00m welch\n\u001B[0;32m----> 5\u001B[0m freq_windows \u001B[38;5;241m=\u001B[39m \u001B[43mwindows\u001B[49m\u001B[43m[\u001B[49m\u001B[43m:\u001B[49m\u001B[38;5;241;43m7\u001B[39;49m\u001B[43m]\u001B[49m\n\u001B[1;32m      6\u001B[0m \u001B[38;5;66;03m# Initialize a dictionary to hold FOOOF models for each channel\u001B[39;00m\n\u001B[1;32m      7\u001B[0m fooof_models \u001B[38;5;241m=\u001B[39m {}\n",
      "\u001B[0;31mTypeError\u001B[0m: unhashable type: 'slice'"
     ]
    }
   ],
   "source": [
    "\n",
    "\n"
   ],
   "metadata": {
    "collapsed": false,
    "ExecuteTime": {
     "end_time": "2023-10-14T21:06:28.772400600Z",
     "start_time": "2023-10-14T21:06:28.729972265Z"
    }
   },
   "id": "2fc26953608279c2"
  },
  {
   "cell_type": "code",
   "execution_count": null,
   "outputs": [],
   "source": [],
   "metadata": {
    "collapsed": false
   },
   "id": "ce3f07bb501c5241"
  }
 ],
 "metadata": {
  "kernelspec": {
   "display_name": "Python 3",
   "language": "python",
   "name": "python3"
  },
  "language_info": {
   "codemirror_mode": {
    "name": "ipython",
    "version": 2
   },
   "file_extension": ".py",
   "mimetype": "text/x-python",
   "name": "python",
   "nbconvert_exporter": "python",
   "pygments_lexer": "ipython2",
   "version": "2.7.6"
  }
 },
 "nbformat": 4,
 "nbformat_minor": 5
}
