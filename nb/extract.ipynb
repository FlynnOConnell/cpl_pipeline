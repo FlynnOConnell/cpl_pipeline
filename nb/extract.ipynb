{
 "cells": [
  {
   "cell_type": "code",
   "execution_count": 9,
   "outputs": [],
   "source": [
    "from pathlib import Path\n",
    "from spk2extract.extraction import Spike2Data"
   ],
   "metadata": {
    "collapsed": false,
    "ExecuteTime": {
     "end_time": "2023-10-12T18:29:32.977746711Z",
     "start_time": "2023-10-12T18:29:32.934803344Z"
    }
   },
   "id": "c29a0f76abc70c07"
  },
  {
   "cell_type": "code",
   "execution_count": 10,
   "id": "initial_id",
   "metadata": {
    "collapsed": true,
    "ExecuteTime": {
     "end_time": "2023-10-12T18:29:43.661934631Z",
     "start_time": "2023-10-12T18:29:34.081532539Z"
    }
   },
   "outputs": [
    {
     "ename": "TypeError",
     "evalue": "unsupported operand type(s) for *: 'int' and 'method'",
     "output_type": "error",
     "traceback": [
      "\u001B[0;31m---------------------------------------------------------------------------\u001B[0m",
      "\u001B[0;31mTypeError\u001B[0m                                 Traceback (most recent call last)",
      "Cell \u001B[0;32mIn[10], line 7\u001B[0m\n\u001B[1;32m      3\u001B[0m this_file \u001B[38;5;241m=\u001B[39m \u001B[38;5;28mlist\u001B[39m(path_test\u001B[38;5;241m.\u001B[39mglob(\u001B[38;5;124m\"\u001B[39m\u001B[38;5;124m*0609*.smr\u001B[39m\u001B[38;5;124m\"\u001B[39m))[\u001B[38;5;241m0\u001B[39m]\n\u001B[1;32m      4\u001B[0m testdata \u001B[38;5;241m=\u001B[39m Spike2Data(\n\u001B[1;32m      5\u001B[0m     this_file,\n\u001B[1;32m      6\u001B[0m )\n\u001B[0;32m----> 7\u001B[0m \u001B[43mtestdata\u001B[49m\u001B[38;5;241;43m.\u001B[39;49m\u001B[43mget_events\u001B[49m\u001B[43m(\u001B[49m\u001B[43m)\u001B[49m\n\u001B[1;32m      8\u001B[0m \u001B[38;5;66;03m# testdata.get_waves()\u001B[39;00m\n\u001B[1;32m      9\u001B[0m \u001B[38;5;66;03m# testdata.save(save_test / str(testdata), overwrite_existing=True)\u001B[39;00m\n",
      "File \u001B[0;32m~/repos/spk2extract/spk2extract/extraction/spike2.py:261\u001B[0m, in \u001B[0;36mSpike2Data.get_events\u001B[0;34m(self)\u001B[0m\n\u001B[1;32m    258\u001B[0m \u001B[38;5;28;01mtry\u001B[39;00m:\n\u001B[1;32m    259\u001B[0m     \u001B[38;5;66;03m# noinspection PyArgumentList\u001B[39;00m\n\u001B[1;32m    260\u001B[0m     marks \u001B[38;5;241m=\u001B[39m \u001B[38;5;28mself\u001B[39m\u001B[38;5;241m.\u001B[39msonfile\u001B[38;5;241m.\u001B[39mReadMarkers(idx, \u001B[38;5;28mint\u001B[39m(\u001B[38;5;241m2e9\u001B[39m), \u001B[38;5;241m0\u001B[39m)\n\u001B[0;32m--> 261\u001B[0m     time_conv \u001B[38;5;241m=\u001B[39m \u001B[43mticks_to_time\u001B[49m\u001B[43m(\u001B[49m\n\u001B[1;32m    262\u001B[0m \u001B[43m        \u001B[49m\u001B[43m[\u001B[49m\u001B[43mmark\u001B[49m\u001B[38;5;241;43m.\u001B[39;49m\u001B[43mTick\u001B[49m\u001B[43m \u001B[49m\u001B[38;5;28;43;01mfor\u001B[39;49;00m\u001B[43m \u001B[49m\u001B[43mmark\u001B[49m\u001B[43m \u001B[49m\u001B[38;5;129;43;01min\u001B[39;49;00m\u001B[43m \u001B[49m\u001B[43mmarks\u001B[49m\u001B[43m]\u001B[49m\u001B[43m,\u001B[49m\u001B[43m \u001B[49m\u001B[38;5;28;43mself\u001B[39;49m\u001B[38;5;241;43m.\u001B[39;49m\u001B[43mtime_base\u001B[49m\n\u001B[1;32m    263\u001B[0m \u001B[43m    \u001B[49m\u001B[43m)\u001B[49m\n\u001B[1;32m    264\u001B[0m     \u001B[38;5;28mself\u001B[39m\u001B[38;5;241m.\u001B[39mevents \u001B[38;5;241m=\u001B[39m np\u001B[38;5;241m.\u001B[39mround(time_conv, \u001B[38;5;241m2\u001B[39m)\n\u001B[1;32m    265\u001B[0m \u001B[38;5;28;01mexcept\u001B[39;00m SonfileException \u001B[38;5;28;01mas\u001B[39;00m e:\n",
      "File \u001B[0;32m~/repos/spk2extract/spk2extract/extraction/spike2.py:52\u001B[0m, in \u001B[0;36mticks_to_time\u001B[0;34m(ticks, time_base)\u001B[0m\n\u001B[1;32m     50\u001B[0m \u001B[38;5;28;01mdef\u001B[39;00m \u001B[38;5;21mticks_to_time\u001B[39m(ticks, time_base):\n\u001B[1;32m     51\u001B[0m \u001B[38;5;250m    \u001B[39m\u001B[38;5;124;03m\"\"\"Converts clock ticks to seconds.\"\"\"\u001B[39;00m\n\u001B[0;32m---> 52\u001B[0m     \u001B[38;5;28;01mreturn\u001B[39;00m \u001B[43mnp\u001B[49m\u001B[38;5;241;43m.\u001B[39;49m\u001B[43marray\u001B[49m\u001B[43m(\u001B[49m\u001B[43mticks\u001B[49m\u001B[43m)\u001B[49m\u001B[43m \u001B[49m\u001B[38;5;241;43m*\u001B[39;49m\u001B[43m \u001B[49m\u001B[43mtime_base\u001B[49m\n",
      "\u001B[0;31mTypeError\u001B[0m: unsupported operand type(s) for *: 'int' and 'method'"
     ]
    }
   ],
   "source": [
    "path_test = Path().home() / \"data\" / \"context\"\n",
    "save_test = Path().home() / \"data\" / \"extracted\"\n",
    "this_file = list(path_test.glob(\"*0609*.smr\"))[0]\n",
    "testdata = Spike2Data(\n",
    "    this_file,\n",
    ")\n",
    "testdata.get_events()\n",
    "# testdata.get_waves()\n",
    "# testdata.save(save_test / str(testdata), overwrite_existing=True)"
   ]
  },
  {
   "cell_type": "code",
   "execution_count": null,
   "outputs": [],
   "source": [],
   "metadata": {
    "collapsed": false
   },
   "id": "3152cc4354e00d49"
  }
 ],
 "metadata": {
  "kernelspec": {
   "display_name": "Python 3",
   "language": "python",
   "name": "python3"
  },
  "language_info": {
   "codemirror_mode": {
    "name": "ipython",
    "version": 2
   },
   "file_extension": ".py",
   "mimetype": "text/x-python",
   "name": "python",
   "nbconvert_exporter": "python",
   "pygments_lexer": "ipython2",
   "version": "2.7.6"
  }
 },
 "nbformat": 4,
 "nbformat_minor": 5
}
