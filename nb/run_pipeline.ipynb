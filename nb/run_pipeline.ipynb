{
 "cells": [
  {
   "cell_type": "code",
   "execution_count": null,
   "id": "initial_id",
   "metadata": {
    "is_executing": true
   },
   "outputs": [],
   "source": [
    "%load_ext autoreload\n",
    "%autoreload 2\n",
    "\n",
    "from pathlib import Path\n",
    "import cpl_extract as cpl"
   ]
  },
  {
   "cell_type": "code",
   "execution_count": 3,
   "id": "d49cade562dba2d",
   "metadata": {
    "collapsed": false,
    "ExecuteTime": {
     "end_time": "2023-12-24T00:59:28.367988408Z",
     "start_time": "2023-12-24T00:59:28.307960621Z"
    }
   },
   "outputs": [],
   "source": [
    "# set Datapath for this recording\n",
    "datapath = Path().home() / 'data' / 'serotonin' / 'raw' / 'session_1'\n",
    "assert datapath.exists()"
   ]
  },
  {
   "cell_type": "code",
   "execution_count": null,
   "id": "e98aed4245861325",
   "metadata": {
    "collapsed": false
   },
   "outputs": [],
   "source": [
    "# or initialize a new dataset\n",
    "data_quality = \"clean\"  # or \"noisy\", \"hp\"\n",
    "\n",
    "my_data = cpl.Dataset(datapath)\n",
    "my_data.initialize_parameters(accept_params=True)"
   ]
  },
  {
   "cell_type": "code",
   "execution_count": 4,
   "id": "ed7216cf25496eff",
   "metadata": {
    "collapsed": false,
    "scrolled": true,
    "ExecuteTime": {
     "end_time": "2023-12-24T01:00:13.580757131Z",
     "start_time": "2023-12-24T00:59:37.118247350Z"
    }
   },
   "outputs": [
    {
     "name": "stdout",
     "output_type": "stream",
     "text": [
      "dataset :: session_1\n",
      "Root Directory : /home/thom/data/serotonin/raw/session_1\n",
      "Save File : /home/thom/data/serotonin/raw/session_1/session_1_dataset.p\n",
      "Log File : /home/thom/cpl_extract/logs/session_1_dataset.log\n",
      "\n",
      "Object creation date: 12/23/23\n",
      "h5 File: /home/thom/data/serotonin/raw/session_1/session_1.h5\n",
      "\n",
      "--------------------\n",
      "Processing Status\n",
      "--------------------\n",
      "initialize_parameters     True\n",
      "extract_data              False\n",
      "create_trial_list         False\n",
      "mark_dead_channels        False\n",
      "spike_detection           False\n",
      "spike_clustering          False\n",
      "cleanup_clustering        False\n",
      "spike_sorting             False\n",
      "make_unit_plots           False\n",
      "units_similarity          False\n",
      "make_unit_arrays          False\n",
      "make_psth_arrays          False\n",
      "plot_psths                False\n",
      "palatability_calculate    False\n",
      "palatability_plot         False\n",
      "overlay_psth              False\n",
      "\n",
      "\n",
      "--------------------\n",
      "Clustering Parameters\n",
      "--------------------\n",
      "file_dir             /home/thom/data/serotonin/raw/session_1\n",
      "data_quality         clean\n",
      "sampling_rate        18518.52\n",
      "clustering_params    \n",
      "    Max Number of Clusters      12\n",
      "    Max Number of Iterations    5000\n",
      "    Convergence Criterion       1e-05\n",
      "    GMM random restarts         20\n",
      "    \n",
      "data_params          \n",
      "    V_cutoff for disconnected headstage     1500\n",
      "    Max rate of cutoff breach per second    0.2\n",
      "    Max allowed seconds with a breach       10\n",
      "    Max allowed breaches per second         20\n",
      "    Intra-cluster waveform amp SD cutoff    3\n",
      "    \n",
      "bandpass_params      \n",
      "    Lower freq cutoff    300\n",
      "    Upper freq cutoff    3000\n",
      "    \n",
      "spike_snapshot       \n",
      "    Time before spike (ms)    0.75\n",
      "    Time after spike (ms)     1\n",
      "    \n",
      "\n",
      "\n",
      "--------------------\n",
      "Spike Array Parameters\n",
      "--------------------\n",
      "dig_ins_to_use    None\n",
      "laser_channels    None\n",
      "sampling_rate     18518.52\n",
      "pre_stimulus      2000\n",
      "post_stimulus     5000\n",
      "\n",
      "\n",
      "--------------------\n",
      "PSTH Parameters\n",
      "--------------------\n",
      "window_size           250\n",
      "window_step           25\n",
      "plot_pre_stimulus     1000\n",
      "plot_post_stimulus    2500\n",
      "\n",
      "\n",
      "--------------------\n",
      "Palatability/Identity Parameters\n",
      "--------------------\n",
      "window_size              250\n",
      "window_step              25\n",
      "num_comparison_bins      5\n",
      "comparison_bin_size      250\n",
      "discrim_p                0.01\n",
      "pal_deduce_start_time    700\n",
      "pal_deduce_end_time      1200\n",
      "unit_type                Single\n"
     ]
    }
   ],
   "source": [
    "# load the dataset\n",
    "my_data: cpl.Dataset = cpl.load_dataset(datapath)\n",
    "print(my_data)"
   ]
  },
  {
   "cell_type": "markdown",
   "id": "f57a9212ac33b086",
   "metadata": {
    "collapsed": false
   },
   "source": [
    "### EXTRACTION"
   ]
  },
  {
   "cell_type": "code",
   "execution_count": null,
   "id": "430d16922714ae48",
   "metadata": {
    "collapsed": false,
    "scrolled": true
   },
   "outputs": [],
   "source": [
    "my_data.extract_data()\n",
    "print(my_data)"
   ]
  },
  {
   "cell_type": "markdown",
   "id": "850a90fb4de01a7b",
   "metadata": {
    "collapsed": false
   },
   "source": [
    "### DETECTION"
   ]
  },
  {
   "cell_type": "code",
   "execution_count": null,
   "id": "86c09ff4bf7f65a5",
   "metadata": {
    "collapsed": false,
    "scrolled": true
   },
   "outputs": [],
   "source": [
    "# DETECTION ----\n",
    "my_data.detect_spikes()\n",
    "# my_data.edit_clustering_params()"
   ]
  },
  {
   "cell_type": "markdown",
   "id": "68c5203e8952d61c",
   "metadata": {
    "collapsed": false
   },
   "source": [
    "### CLUSTERING"
   ]
  },
  {
   "cell_type": "code",
   "execution_count": null,
   "id": "fb5df94940e22017",
   "metadata": {
    "collapsed": false
   },
   "outputs": [],
   "source": [
    "my_data.cluster_spikes()"
   ]
  },
  {
   "cell_type": "markdown",
   "id": "b8a2069fe4436ee7",
   "metadata": {
    "collapsed": false
   },
   "source": [
    "### SORTING"
   ]
  },
  {
   "cell_type": "code",
   "execution_count": null,
   "outputs": [],
   "source": [
    "my_data.sort_spikes(3)"
   ],
   "metadata": {
    "collapsed": false
   },
   "id": "2885f3f22ecf3d42"
  },
  {
   "cell_type": "markdown",
   "source": [
    "### LOAD PICKLED DATA"
   ],
   "metadata": {
    "collapsed": false
   },
   "id": "e843ed6b66ae51af"
  },
  {
   "cell_type": "code",
   "execution_count": 1,
   "outputs": [
    {
     "ename": "NameError",
     "evalue": "name 'Path' is not defined",
     "output_type": "error",
     "traceback": [
      "\u001B[0;31m---------------------------------------------------------------------------\u001B[0m",
      "\u001B[0;31mNameError\u001B[0m                                 Traceback (most recent call last)",
      "Cell \u001B[0;32mIn[1], line 1\u001B[0m\n\u001B[0;32m----> 1\u001B[0m pickle_path \u001B[38;5;241m=\u001B[39m \u001B[43mPath\u001B[49m()\u001B[38;5;241m.\u001B[39mhome() \u001B[38;5;241m/\u001B[39m \u001B[38;5;124m'\u001B[39m\u001B[38;5;124mdata\u001B[39m\u001B[38;5;124m'\u001B[39m \u001B[38;5;241m/\u001B[39m \u001B[38;5;124m'\u001B[39m\u001B[38;5;124mserotonin\u001B[39m\u001B[38;5;124m'\u001B[39m \u001B[38;5;241m/\u001B[39m \u001B[38;5;124m'\u001B[39m\u001B[38;5;124mraw\u001B[39m\u001B[38;5;124m'\u001B[39m \u001B[38;5;241m/\u001B[39m \u001B[38;5;124m'\u001B[39m\u001B[38;5;124msession_1\u001B[39m\u001B[38;5;124m'\u001B[39m \u001B[38;5;241m/\u001B[39m \u001B[38;5;124m'\u001B[39m\u001B[38;5;124msession_1_dataset.p\u001B[39m\u001B[38;5;124m'\u001B[39m\n\u001B[1;32m      2\u001B[0m my_obj \u001B[38;5;241m=\u001B[39m cpl\u001B[38;5;241m.\u001B[39mload_pickled_object(pickle_path)\n",
      "\u001B[0;31mNameError\u001B[0m: name 'Path' is not defined"
     ]
    }
   ],
   "source": [
    "pickle_path = Path().home() / 'data' / 'serotonin' / 'raw' / 'session_1' / 'session_1_dataset.p'\n",
    "my_obj = cpl.load_pickled_object(pickle_path)"
   ],
   "metadata": {
    "collapsed": false,
    "ExecuteTime": {
     "end_time": "2023-12-24T00:51:56.808240737Z",
     "start_time": "2023-12-24T00:51:56.607443637Z"
    }
   },
   "id": "7b03570a8a82fa3f"
  },
  {
   "cell_type": "code",
   "execution_count": 5,
   "outputs": [
    {
     "name": "stdout",
     "output_type": "stream",
     "text": [
      "Saving dataset: session_1... \n",
      "Saving to /home/thom/data/serotonin/raw/session_1/session_1_dataset.p\n"
     ]
    }
   ],
   "source": [
    "\n",
    "my_data.make_unit_plots()"
   ],
   "metadata": {
    "collapsed": false,
    "ExecuteTime": {
     "end_time": "2023-12-24T01:12:08.489366220Z",
     "start_time": "2023-12-24T01:12:08.402610558Z"
    }
   },
   "id": "d74978e6be85f6ff"
  },
  {
   "cell_type": "code",
   "execution_count": 5,
   "outputs": [
    {
     "name": "stdout",
     "output_type": "stream",
     "text": [
      "Saving dataset: session_1... \n",
      "Saving to /home/thom/data/serotonin/raw/session_1/session_1_dataset.p\n",
      "Generating unit arrays with parameters:\n",
      "----------\n",
      "    dig_ins_to_use    None\n",
      "    laser_channels    None\n",
      "    sampling_rate     18518.52\n",
      "    pre_stimulus      2000\n",
      "    post_stimulus     5000\n",
      "    \n",
      "\n",
      "----------\n",
      "Making Unit Spike Arrays\n",
      "----------\n"
     ]
    },
    {
     "ename": "ValueError",
     "evalue": "Must provide dig_ins_to_use in params in order to make spike arrays",
     "output_type": "error",
     "traceback": [
      "\u001B[0;31m---------------------------------------------------------------------------\u001B[0m",
      "\u001B[0;31mValueError\u001B[0m                                Traceback (most recent call last)",
      "Cell \u001B[0;32mIn[5], line 1\u001B[0m\n\u001B[0;32m----> 1\u001B[0m \u001B[43mmy_data\u001B[49m\u001B[38;5;241;43m.\u001B[39;49m\u001B[43mpost_sorting\u001B[49m\u001B[43m(\u001B[49m\u001B[43m)\u001B[49m\n",
      "File \u001B[0;32m~/repos/cpl_extract/cpl_extract/base/dataset.py:1163\u001B[0m, in \u001B[0;36mDataset.post_sorting\u001B[0;34m(self)\u001B[0m\n\u001B[1;32m   1161\u001B[0m \u001B[38;5;28;01mdef\u001B[39;00m \u001B[38;5;21mpost_sorting\u001B[39m(\u001B[38;5;28mself\u001B[39m):\n\u001B[1;32m   1162\u001B[0m     \u001B[38;5;28mself\u001B[39m\u001B[38;5;241m.\u001B[39mmake_unit_plots()\n\u001B[0;32m-> 1163\u001B[0m     \u001B[38;5;28;43mself\u001B[39;49m\u001B[38;5;241;43m.\u001B[39;49m\u001B[43mmake_unit_arrays\u001B[49m\u001B[43m(\u001B[49m\u001B[43m)\u001B[49m\n\u001B[1;32m   1164\u001B[0m     \u001B[38;5;28mself\u001B[39m\u001B[38;5;241m.\u001B[39munits_similarity(shell\u001B[38;5;241m=\u001B[39m\u001B[38;5;28;01mTrue\u001B[39;00m)\n\u001B[1;32m   1165\u001B[0m     \u001B[38;5;28mself\u001B[39m\u001B[38;5;241m.\u001B[39mmake_psth_arrays()\n",
      "File \u001B[0;32m~/repos/cpl_extract/cpl_extract/base/dataset.py:943\u001B[0m, in \u001B[0;36mDataset.make_unit_arrays\u001B[0;34m(self)\u001B[0m\n\u001B[1;32m    941\u001B[0m \u001B[38;5;28mprint\u001B[39m(\u001B[38;5;124m\"\u001B[39m\u001B[38;5;124mGenerating unit arrays with parameters:\u001B[39m\u001B[38;5;130;01m\\n\u001B[39;00m\u001B[38;5;124m----------\u001B[39m\u001B[38;5;124m\"\u001B[39m)\n\u001B[1;32m    942\u001B[0m \u001B[38;5;28mprint\u001B[39m(pt\u001B[38;5;241m.\u001B[39mprint_dict(params, tabs\u001B[38;5;241m=\u001B[39m\u001B[38;5;241m1\u001B[39m))\n\u001B[0;32m--> 943\u001B[0m \u001B[43mmake_spike_arrays\u001B[49m\u001B[43m(\u001B[49m\u001B[38;5;28;43mself\u001B[39;49m\u001B[38;5;241;43m.\u001B[39;49m\u001B[43mh5_file\u001B[49m\u001B[43m,\u001B[49m\u001B[43m \u001B[49m\u001B[43mparams\u001B[49m\u001B[43m)\u001B[49m\n\u001B[1;32m    944\u001B[0m \u001B[38;5;28mself\u001B[39m\u001B[38;5;241m.\u001B[39mprocess_status[\u001B[38;5;124m\"\u001B[39m\u001B[38;5;124mmake_unit_arrays\u001B[39m\u001B[38;5;124m\"\u001B[39m] \u001B[38;5;241m=\u001B[39m \u001B[38;5;28;01mTrue\u001B[39;00m\n\u001B[1;32m    945\u001B[0m \u001B[38;5;28mself\u001B[39m\u001B[38;5;241m.\u001B[39msave()\n",
      "File \u001B[0;32m~/repos/cpl_extract/cpl_extract/analysis/spike_sorting.py:40\u001B[0m, in \u001B[0;36mmake_spike_arrays\u001B[0;34m(h5_file, params)\u001B[0m\n\u001B[1;32m     37\u001B[0m n_pts \u001B[38;5;241m=\u001B[39m pre_stim \u001B[38;5;241m+\u001B[39m post_stim\n\u001B[1;32m     39\u001B[0m \u001B[38;5;28;01mif\u001B[39;00m dig_in_ch \u001B[38;5;129;01mis\u001B[39;00m \u001B[38;5;28;01mNone\u001B[39;00m \u001B[38;5;129;01mor\u001B[39;00m dig_in_ch \u001B[38;5;241m==\u001B[39m []:\n\u001B[0;32m---> 40\u001B[0m     \u001B[38;5;28;01mraise\u001B[39;00m \u001B[38;5;167;01mValueError\u001B[39;00m(\n\u001B[1;32m     41\u001B[0m         \u001B[38;5;124m\"\u001B[39m\u001B[38;5;124mMust provide dig_ins_to_use in params in \u001B[39m\u001B[38;5;124m\"\u001B[39m \u001B[38;5;124m\"\u001B[39m\u001B[38;5;124morder to make spike arrays\u001B[39m\u001B[38;5;124m\"\u001B[39m\n\u001B[1;32m     42\u001B[0m     )\n\u001B[1;32m     43\u001B[0m \u001B[38;5;66;03m# get digital input table\u001B[39;00m\n\u001B[1;32m     44\u001B[0m dig_in_table \u001B[38;5;241m=\u001B[39m h5io\u001B[38;5;241m.\u001B[39mread_trial_data_table(h5_file, \u001B[38;5;124m\"\u001B[39m\u001B[38;5;124min\u001B[39m\u001B[38;5;124m\"\u001B[39m, dig_in_ch)\n",
      "\u001B[0;31mValueError\u001B[0m: Must provide dig_ins_to_use in params in order to make spike arrays"
     ]
    }
   ],
   "source": [
    "my_data.post_sorting()"
   ],
   "metadata": {
    "collapsed": false,
    "ExecuteTime": {
     "end_time": "2023-12-23T22:33:59.605674052Z",
     "start_time": "2023-12-23T22:33:50.529243337Z"
    }
   },
   "id": "f4f67190bd96254d"
  }
 ],
 "metadata": {
  "kernelspec": {
   "display_name": "Python 3 (ipykernel)",
   "language": "python",
   "name": "python3"
  },
  "language_info": {
   "codemirror_mode": {
    "name": "ipython",
    "version": 3
   },
   "file_extension": ".py",
   "mimetype": "text/x-python",
   "name": "python",
   "nbconvert_exporter": "python",
   "pygments_lexer": "ipython3",
   "version": "3.9.18"
  }
 },
 "nbformat": 4,
 "nbformat_minor": 5
}
