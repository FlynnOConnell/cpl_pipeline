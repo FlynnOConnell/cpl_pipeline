{
 "cells": [
  {
   "cell_type": "markdown",
   "source": [
    "### CPL Data Analysis Pipeline\n",
    "\n",
    "This notebook demonstrates how to use the CPL data analysis pipeline.\n",
    "For instructions on how to install the pipeline, see the README.\n",
    "\n",
    "<br>\n",
    "\n",
    "This pipeline can be started from the shell by running the following command:\n",
    "\n",
    "```bash\n",
    "git clone \n",
    "python -m ~/path/to/cpl_pipeline/repo\n",
    "```\n",
    "\n",
    "Or by opening an IPython terminal and interact with the pipeline using the following commands:\n",
    "\n",
    "```python\n",
    "[1] import cpl_pipeline as cpl\n",
    "[2] my_data_path = Path(r'C:\\Users\\cpl_lab\\data\\session_1')\n",
    "[3] my_data = cpl.Dataset(my_data_path)\n",
    "[4] my_data.initialize_parameters(accept_params=True)\n",
    "[5] my_data.extract_data()\n",
    "[6] my_data.detect_spikes()\n",
    "[7] my_data.cluster_spikes()\n",
    "[8] my_data.sort_spikes(3)  # do this for each electrode\n",
    "[9] my_data.make_unit_plots()\n",
    "[10] my_data.post_sorting()\n",
    "```\n",
    "---\n",
    "\n",
    "### Steps:\n",
    "1. Initialize a new dataset\n",
    "2. Load a dataset\n",
    "3. Extract data\n",
    "4. Detect spikes\n",
    "5. Cluster spikes\n",
    "6. Sort spikes\n",
    "7. Make plots\n",
    "8. Post sorting"
   ],
   "metadata": {
    "collapsed": false
   },
   "id": "c2f60c0273fa51a0"
  },
  {
   "cell_type": "code",
   "execution_count": 2,
   "id": "d49cade562dba2d",
   "metadata": {
    "collapsed": false,
    "ExecuteTime": {
     "end_time": "2023-12-31T01:16:06.204358Z",
     "start_time": "2023-12-31T01:16:06.125577Z"
    }
   },
   "outputs": [
    {
     "name": "stdout",
     "output_type": "stream",
     "text": [
      "The autoreload extension is already loaded. To reload it, use:\n",
      "  %reload_ext autoreload\n",
      "Path to data:        /Users/flynnoconnell/data/r35_session_1\n",
      "Directory contents:  ['spike_clustering', 'analysis_params', 'detect_spikes', 'animal_date_drug_post.smr', 'r35_session_1_dataset.p', 'r35_session_1.h5']\n"
     ]
    }
   ],
   "source": [
    "# import modules \n",
    "# an error here means there's a problem with the installation\n",
    "# very likely that the environment is not being used\n",
    "\n",
    "%load_ext autoreload\n",
    "%autoreload 2\n",
    "\n",
    "from pathlib import Path  # this takes care of os-specific path issues\n",
    "import cpl_pipeline as cpl\n",
    "# this should be the path to the the directory containing your raw data\n",
    "# for a single session. You can copy-paste this path from the file explorer\n",
    "\n",
    "# Windows:\n",
    "# datapath = Path(r'C:\\Users\\cpl_lab\\data\\session_1')\n",
    "# Mac:\n",
    "# datapath = Path('/Users/cpl_lab/data/session_1')\n",
    "\n",
    "# move the data file to its own directory, if more than one session\n",
    "# is included they will be merged into a single dataset\n",
    "datapath = Path('/Users/flynnoconnell/data/r35_session_1')  \n",
    "if not datapath.exists():\n",
    "    raise FileNotFoundError(f\"The above path: {datapath} does not exist.\")\n",
    "\n",
    "print(f\"Path to data:        {datapath}\")\n",
    "print(\"Directory contents:  \"\n",
    "      f\"{[f.name for f in datapath.iterdir()]}\")"
   ]
  },
  {
   "cell_type": "markdown",
   "source": [
    "###  Load or Initialize a dataset\n",
    "\n",
    "Initialize a new dataset by passing the path to the raw data directory to the `Dataset` class."
   ],
   "metadata": {
    "collapsed": false
   },
   "id": "c488d14f44759ffe"
  },
  {
   "cell_type": "code",
   "execution_count": 3,
   "outputs": [
    {
     "name": "stdout",
     "output_type": "stream",
     "text": [
      "Using r35_session_1 as name for dataset\n",
      "Using default logfile /Users/flynnoconnell/cpl_pipeline/logs/r35_session_1_dataset.log.\n",
      "Existing h5 file found. Using /Users/flynnoconnell/data/r35_session_1/r35_session_1.h5.\n",
      "   electrode   name  port units  offsets  scales  sampling_rate     SonpyType  \\\n",
      "3          3  U1_OB    26  Volt      0.0     1.0       18518.52  DataType.Adc   \n",
      "4          4  U1_PC    27  Volt      0.0     1.0       18518.52  DataType.Adc   \n",
      "5          5  U2_PC    28  Volt      0.0     1.0       18518.52  DataType.Adc   \n",
      "6          6  U3_PC    29  Volt      0.0     1.0       18518.52  DataType.Adc   \n",
      "\n",
      "   unit    lfp  event  \n",
      "3  True  False  False  \n",
      "4  True  False  False  \n",
      "5  True  False  False  \n",
      "6  True  False  False  \n",
      "Writing all parameters to json file in analysis_params folder...\n",
      "Writing clustering_params.json to /Users/flynnoconnell/data/r35_session_1/analysis_params/clustering_params.json\n",
      "Writing spike_array_params.json to /Users/flynnoconnell/data/r35_session_1/analysis_params/spike_array_params.json\n",
      "Writing psth_params.json to /Users/flynnoconnell/data/r35_session_1/analysis_params/psth_params.json\n",
      "Writing pal_id_params.json to /Users/flynnoconnell/data/r35_session_1/analysis_params/pal_id_params.json\n",
      "Saving dataset: r35_session_1... \n",
      "Saving to /Users/flynnoconnell/data/r35_session_1/r35_session_1_dataset.p\n",
      "dataset :: r35_session_1\n",
      "Root Directory : /Users/flynnoconnell/data/r35_session_1\n",
      "Save File : /Users/flynnoconnell/data/r35_session_1/r35_session_1_dataset.p\n",
      "Log File : /Users/flynnoconnell/cpl_pipeline/logs/r35_session_1_dataset.log\n",
      "\n",
      "Object creation date: 12/30/23\n",
      "h5 File: /Users/flynnoconnell/data/r35_session_1/r35_session_1.h5\n",
      "\n",
      "--------------------\n",
      "Processing Status\n",
      "--------------------\n",
      "initialize_parameters     True\n",
      "extract_data              False\n",
      "create_trial_list         False\n",
      "mark_dead_channels        False\n",
      "detect_spikes             False\n",
      "spike_clustering          False\n",
      "cleanup_clustering        False\n",
      "sort_spikes               False\n",
      "make_unit_plots           False\n",
      "units_similarity          False\n",
      "make_unit_arrays          False\n",
      "make_psth_arrays          False\n",
      "plot_psths                False\n",
      "palatability_calculate    False\n",
      "palatability_plot         False\n",
      "overlay_psth              False\n",
      "\n",
      "\n",
      "--------------------\n",
      "Clustering Parameters\n",
      "--------------------\n",
      "file_dir             /Users/flynnoconnell/data/r35_session_1\n",
      "data_quality         clean\n",
      "sampling_rate        18518.52\n",
      "clustering_params    \n",
      "    Max Number of Clusters      12\n",
      "    Max Number of Iterations    5000\n",
      "    Convergence Criterion       1e-05\n",
      "    GMM random restarts         20\n",
      "    \n",
      "data_params          \n",
      "    V_cutoff for disconnected headstage     1500\n",
      "    Max rate of cutoff breach per second    0.2\n",
      "    Max allowed seconds with a breach       10\n",
      "    Max allowed breaches per second         20\n",
      "    Intra-cluster waveform amp SD cutoff    3\n",
      "    \n",
      "bandpass_params      \n",
      "    Lower freq cutoff    300\n",
      "    Upper freq cutoff    3000\n",
      "    \n",
      "spike_snapshot       \n",
      "    Time before spike (ms)    0.75\n",
      "    Time after spike (ms)     1\n",
      "    \n",
      "\n",
      "\n",
      "--------------------\n",
      "Spike Array Parameters\n",
      "--------------------\n",
      "dig_ins_to_use    None\n",
      "laser_channels    None\n",
      "sampling_rate     18518.52\n",
      "pre_stimulus      2000\n",
      "post_stimulus     5000\n",
      "\n",
      "\n",
      "--------------------\n",
      "PSTH Parameters\n",
      "--------------------\n",
      "window_size           250\n",
      "window_step           25\n",
      "plot_pre_stimulus     1000\n",
      "plot_post_stimulus    2500\n",
      "\n",
      "\n",
      "--------------------\n",
      "Palatability/Identity Parameters\n",
      "--------------------\n",
      "window_size              250\n",
      "window_step              25\n",
      "num_comparison_bins      5\n",
      "comparison_bin_size      250\n",
      "discrim_p                0.01\n",
      "pal_deduce_start_time    700\n",
      "pal_deduce_end_time      1200\n",
      "unit_type                Single\n"
     ]
    }
   ],
   "source": [
    "my_data = cpl.Dataset(datapath)\n",
    "my_data.initialize_parameters(accept_params=False)  # you can optionally skip changing parameters\n",
    "print(my_data)\n",
    "\n",
    "# if you want to load a previously initialized dataset, use load_dataset() instead:\n",
    "# my_data = cpl.load_dataset(datapath)\n"
   ],
   "metadata": {
    "collapsed": false,
    "ExecuteTime": {
     "end_time": "2023-12-31T01:16:30.070791Z",
     "start_time": "2023-12-31T01:16:17.503970Z"
    }
   },
   "id": "19a9b408715c1cb7"
  },
  {
   "cell_type": "markdown",
   "id": "f57a9212ac33b086",
   "metadata": {
    "collapsed": false
   },
   "source": [
    "### 1. Extraction\n",
    "\n",
    "Extract data from the raw data files. This will create a .h5 file as storage for the extracted data."
   ]
  },
  {
   "cell_type": "code",
   "execution_count": 4,
   "id": "430d16922714ae48",
   "metadata": {
    "collapsed": false,
    "scrolled": true,
    "ExecuteTime": {
     "end_time": "2023-12-31T01:17:55.935861Z",
     "start_time": "2023-12-31T01:17:40.743337Z"
    }
   },
   "outputs": [
    {
     "name": "stdout",
     "output_type": "stream",
     "text": [
      "Deleting existing h5 file...Done!\n",
      "Creating empty HDF5 store with raw data groups\n",
      "Writing r35_session_1.h5 ...Done!\n",
      "\n",
      "Creating empty arrays in hdf5 store for raw data...Done!\n",
      "Extracting data from Spike2 file\n"
     ]
    },
    {
     "name": "stderr",
     "output_type": "stream",
     "text": [
      "ic| /Users/flynnoconnell/repos/cpl_pipeline/cpl_pipeline/base/dataset.py:584 in _process_spike2data()\n",
      "    f\"Extracting electrode {electrode_idx}/{electrodes[-1]}\": 'Extracting electrode 3/6'\n"
     ]
    },
    {
     "name": "stdout",
     "output_type": "stream",
     "text": [
      "Writing electrode3 to /Users/flynnoconnell/data/r35_session_1/r35_session_1.h5...Writing electrode_map to /Users/flynnoconnell/data/r35_session_1/r35_session_1.h5...\n"
     ]
    },
    {
     "name": "stderr",
     "output_type": "stream",
     "text": [
      "ic| /Users/flynnoconnell/repos/cpl_pipeline/cpl_pipeline/base/dataset.py:597 in _process_spike2data()\n",
      "    \"Time vector saved to h5 file\": 'Time vector saved to h5 file'\n",
      "ic| /Users/flynnoconnell/repos/cpl_pipeline/cpl_pipeline/base/dataset.py:584 in _process_spike2data()\n",
      "    f\"Extracting electrode {electrode_idx}/{electrodes[-1]}\": 'Extracting electrode 4/6'\n"
     ]
    },
    {
     "name": "stdout",
     "output_type": "stream",
     "text": [
      "Writing electrode4 to /Users/flynnoconnell/data/r35_session_1/r35_session_1.h5..."
     ]
    },
    {
     "name": "stderr",
     "output_type": "stream",
     "text": [
      "ic| /Users/flynnoconnell/repos/cpl_pipeline/cpl_pipeline/base/dataset.py:584 in _process_spike2data()\n",
      "    f\"Extracting electrode {electrode_idx}/{electrodes[-1]}\": 'Extracting electrode 5/6'\n"
     ]
    },
    {
     "name": "stdout",
     "output_type": "stream",
     "text": [
      "Writing electrode_map to /Users/flynnoconnell/data/r35_session_1/r35_session_1.h5...\n",
      "Writing electrode5 to /Users/flynnoconnell/data/r35_session_1/r35_session_1.h5..."
     ]
    },
    {
     "name": "stderr",
     "output_type": "stream",
     "text": [
      "ic| /Users/flynnoconnell/repos/cpl_pipeline/cpl_pipeline/base/dataset.py:584 in _process_spike2data()\n",
      "    f\"Extracting electrode {electrode_idx}/{electrodes[-1]}\": 'Extracting electrode 6/6'\n"
     ]
    },
    {
     "name": "stdout",
     "output_type": "stream",
     "text": [
      "Writing electrode_map to /Users/flynnoconnell/data/r35_session_1/r35_session_1.h5...\n",
      "Writing electrode6 to /Users/flynnoconnell/data/r35_session_1/r35_session_1.h5...Writing electrode_map to /Users/flynnoconnell/data/r35_session_1/r35_session_1.h5...\n",
      "Saving dataset: r35_session_1... \n",
      "Saving to /Users/flynnoconnell/data/r35_session_1/r35_session_1_dataset.p\n",
      "\n",
      "Data Extraction Complete\n",
      "--------------------\n",
      "dataset :: r35_session_1\n",
      "Root Directory : /Users/flynnoconnell/data/r35_session_1\n",
      "Save File : /Users/flynnoconnell/data/r35_session_1/r35_session_1_dataset.p\n",
      "Log File : /Users/flynnoconnell/cpl_pipeline/logs/r35_session_1_dataset.log\n",
      "\n",
      "Object creation date: 12/30/23\n",
      "h5 File: /Users/flynnoconnell/data/r35_session_1/r35_session_1.h5\n",
      "\n",
      "--------------------\n",
      "Processing Status\n",
      "--------------------\n",
      "initialize_parameters     True\n",
      "extract_data              True\n",
      "create_trial_list         False\n",
      "mark_dead_channels        False\n",
      "detect_spikes             False\n",
      "spike_clustering          False\n",
      "cleanup_clustering        False\n",
      "sort_spikes               False\n",
      "make_unit_plots           False\n",
      "units_similarity          False\n",
      "make_unit_arrays          False\n",
      "make_psth_arrays          False\n",
      "plot_psths                False\n",
      "palatability_calculate    False\n",
      "palatability_plot         False\n",
      "overlay_psth              False\n",
      "\n",
      "\n",
      "--------------------\n",
      "Clustering Parameters\n",
      "--------------------\n",
      "file_dir             /Users/flynnoconnell/data/r35_session_1\n",
      "data_quality         clean\n",
      "sampling_rate        18518.52\n",
      "clustering_params    \n",
      "    Max Number of Clusters      12\n",
      "    Max Number of Iterations    5000\n",
      "    Convergence Criterion       1e-05\n",
      "    GMM random restarts         20\n",
      "    \n",
      "data_params          \n",
      "    V_cutoff for disconnected headstage     1500\n",
      "    Max rate of cutoff breach per second    0.2\n",
      "    Max allowed seconds with a breach       10\n",
      "    Max allowed breaches per second         20\n",
      "    Intra-cluster waveform amp SD cutoff    3\n",
      "    \n",
      "bandpass_params      \n",
      "    Lower freq cutoff    300\n",
      "    Upper freq cutoff    3000\n",
      "    \n",
      "spike_snapshot       \n",
      "    Time before spike (ms)    0.75\n",
      "    Time after spike (ms)     1\n",
      "    \n",
      "\n",
      "\n",
      "--------------------\n",
      "Spike Array Parameters\n",
      "--------------------\n",
      "dig_ins_to_use    None\n",
      "laser_channels    None\n",
      "sampling_rate     18518.52\n",
      "pre_stimulus      2000\n",
      "post_stimulus     5000\n",
      "\n",
      "\n",
      "--------------------\n",
      "PSTH Parameters\n",
      "--------------------\n",
      "window_size           250\n",
      "window_step           25\n",
      "plot_pre_stimulus     1000\n",
      "plot_post_stimulus    2500\n",
      "\n",
      "\n",
      "--------------------\n",
      "Palatability/Identity Parameters\n",
      "--------------------\n",
      "window_size              250\n",
      "window_step              25\n",
      "num_comparison_bins      5\n",
      "comparison_bin_size      250\n",
      "discrim_p                0.01\n",
      "pal_deduce_start_time    700\n",
      "pal_deduce_end_time      1200\n",
      "unit_type                Single\n"
     ]
    }
   ],
   "source": [
    "my_data.extract_data()\n",
    "print(my_data)"
   ]
  },
  {
   "cell_type": "markdown",
   "id": "850a90fb4de01a7b",
   "metadata": {
    "collapsed": false
   },
   "source": [
    "### 2. Detection\n",
    "\n",
    "Turn continuous ADC signal into discrete spike events."
   ]
  },
  {
   "cell_type": "code",
   "execution_count": 5,
   "id": "86c09ff4bf7f65a5",
   "metadata": {
    "collapsed": false,
    "scrolled": true,
    "ExecuteTime": {
     "end_time": "2023-12-31T01:18:34.877938Z",
     "start_time": "2023-12-31T01:18:03.260208Z"
    }
   },
   "outputs": [
    {
     "name": "stdout",
     "output_type": "stream",
     "text": [
      "\n",
      "Running Spike Detection\n",
      "-------------------\n",
      "Parameters\n",
      "file_dir             /Users/flynnoconnell/data/r35_session_1\n",
      "data_quality         clean\n",
      "sampling_rate        18518.52\n",
      "clustering_params    \n",
      "    Max Number of Clusters      12\n",
      "    Max Number of Iterations    5000\n",
      "    Convergence Criterion       1e-05\n",
      "    GMM random restarts         20\n",
      "    \n",
      "data_params          \n",
      "    V_cutoff for disconnected headstage     1500\n",
      "    Max rate of cutoff breach per second    0.2\n",
      "    Max allowed seconds with a breach       10\n",
      "    Max allowed breaches per second         20\n",
      "    Intra-cluster waveform amp SD cutoff    3\n",
      "    \n",
      "bandpass_params      \n",
      "    Lower freq cutoff    300\n",
      "    Upper freq cutoff    3000\n",
      "    \n",
      "spike_snapshot       \n",
      "    Time before spike (ms)    0.75\n",
      "    Time after spike (ms)     1\n",
      "    \n"
     ]
    },
    {
     "name": "stderr",
     "output_type": "stream",
     "text": [
      "  0%|          | 0/4 [00:00<?, ?it/s]ic| /Users/flynnoconnell/repos/cpl_pipeline/cpl_pipeline/analysis/cluster.py:715 in run()\n",
      "    f\"Running spike detection on electrode {electrode}\": 'Running spike detection on electrode 3'\n"
     ]
    },
    {
     "name": "stdout",
     "output_type": "stream",
     "text": [
      "[ 0.17852783  0.13000488  0.04135132 ...  0.04180908 -0.01251221\n",
      " -0.03219604]\n",
      "Scaling waveforms by energy\n",
      "Computing waveform energy\n"
     ]
    },
    {
     "name": "stderr",
     "output_type": "stream",
     "text": [
      " 25%|██▌       | 1/4 [00:09<00:27,  9.13s/it]ic| /Users/flynnoconnell/repos/cpl_pipeline/cpl_pipeline/analysis/cluster.py:715 in run()\n",
      "    f\"Running spike detection on electrode {electrode}\": 'Running spike detection on electrode 4'\n"
     ]
    },
    {
     "name": "stdout",
     "output_type": "stream",
     "text": [
      "[ 0.30502319  0.18188477  0.0617981  ... -0.02685547 -0.04745483\n",
      " -0.01663208]\n",
      "Scaling waveforms by energy\n",
      "Computing waveform energy\n"
     ]
    },
    {
     "name": "stderr",
     "output_type": "stream",
     "text": [
      " 50%|█████     | 2/4 [00:15<00:14,  7.43s/it]ic| /Users/flynnoconnell/repos/cpl_pipeline/cpl_pipeline/analysis/cluster.py:715 in run()\n",
      "    f\"Running spike detection on electrode {electrode}\": 'Running spike detection on electrode 5'\n"
     ]
    },
    {
     "name": "stdout",
     "output_type": "stream",
     "text": [
      "[ 0.10986328  0.06225586  0.0227356  ...  0.03097534 -0.05569458\n",
      " -0.12237549]\n",
      "Scaling waveforms by energy\n",
      "Computing waveform energy\n"
     ]
    },
    {
     "name": "stderr",
     "output_type": "stream",
     "text": [
      " 75%|███████▌  | 3/4 [00:23<00:07,  7.53s/it]ic| /Users/flynnoconnell/repos/cpl_pipeline/cpl_pipeline/analysis/cluster.py:715 in run()\n",
      "    f\"Running spike detection on electrode {electrode}\": 'Running spike detection on electrode 6'\n"
     ]
    },
    {
     "name": "stdout",
     "output_type": "stream",
     "text": [
      "[ 0.08773804 -0.00946045 -0.04364014 ...  0.03921509  0.04516602\n",
      "  0.00183105]\n",
      "Scaling waveforms by energy\n",
      "Computing waveform energy\n"
     ]
    },
    {
     "name": "stderr",
     "output_type": "stream",
     "text": [
      "100%|██████████| 4/4 [00:31<00:00,  7.85s/it]"
     ]
    },
    {
     "name": "stdout",
     "output_type": "stream",
     "text": [
      "electrode    Result    Cutoff (s)\n",
      "  3            1         1047.0\n",
      "  4            1         1047.0\n",
      "  5            1         1047.0\n",
      "  6            1         1047.0\n",
      "1 - Success\n",
      "0 - No data or no spikes\n",
      "-1 - Error\n",
      "Writing electrode_map to /Users/flynnoconnell/data/r35_session_1/r35_session_1.h5...\n",
      "Saving dataset: r35_session_1... \n",
      "Saving to /Users/flynnoconnell/data/r35_session_1/r35_session_1_dataset.p\n",
      "Spike Detection Complete\n",
      "------------------\n"
     ]
    },
    {
     "name": "stderr",
     "output_type": "stream",
     "text": [
      "\n"
     ]
    },
    {
     "data": {
      "text/plain": "[(None, None, None),\n (None, None, None),\n (None, None, None),\n (3, 1, 1047.0),\n (4, 1, 1047.0),\n (5, 1, 1047.0),\n (6, 1, 1047.0)]"
     },
     "execution_count": 5,
     "metadata": {},
     "output_type": "execute_result"
    }
   ],
   "source": [
    "# DETECTION ----\n",
    "my_data.detect_spikes()\n",
    "# my_data.edit_clustering_params()"
   ]
  },
  {
   "cell_type": "markdown",
   "id": "68c5203e8952d61c",
   "metadata": {
    "collapsed": false
   },
   "source": [
    "### 3. Clustering\n",
    "\n"
   ]
  },
  {
   "cell_type": "code",
   "execution_count": null,
   "id": "fb5df94940e22017",
   "metadata": {
    "collapsed": false,
    "is_executing": true,
    "ExecuteTime": {
     "start_time": "2023-12-31T01:19:24.547375Z"
    }
   },
   "outputs": [
    {
     "name": "stderr",
     "output_type": "stream",
     "text": [
      "ic| /Users/flynnoconnell/repos/cpl_pipeline/cpl_pipeline/analysis/cluster.py:998 in __init__()\n",
      "    rec_dirs: PosixPath('/Users/flynnoconnell/data/r35_session_1')\n",
      "    channel_number: 3\n",
      "    out_dir: None\n",
      "    params: {'bandpass_params': {'Lower freq cutoff': 300, 'Upper freq cutoff': 3000},\n",
      "             'clustering_params': {'Convergence Criterion': 1e-05,\n",
      "                                   'GMM random restarts': 20,\n",
      "                                   'Max Number of Clusters': 12,\n",
      "                                   'Max Number of Iterations'"
     ]
    }
   ],
   "source": [
    "my_data.cluster_spikes()"
   ]
  },
  {
   "cell_type": "markdown",
   "id": "b8a2069fe4436ee7",
   "metadata": {
    "collapsed": false
   },
   "source": [
    "### SORTING"
   ]
  },
  {
   "cell_type": "code",
   "execution_count": null,
   "outputs": [],
   "source": [
    "my_data.sort_spikes(3)"
   ],
   "metadata": {
    "collapsed": false
   },
   "id": "2885f3f22ecf3d42"
  },
  {
   "cell_type": "markdown",
   "source": [
    "### LOAD PICKLED DATA"
   ],
   "metadata": {
    "collapsed": false
   },
   "id": "e843ed6b66ae51af"
  },
  {
   "cell_type": "code",
   "execution_count": null,
   "outputs": [],
   "source": [
    "pickle_path = Path().home() / 'data' / 'serotonin' / 'raw' / 'session_1' / 'session_1_dataset.p'\n",
    "my_obj = cpl.load_pickled_object(pickle_path)"
   ],
   "metadata": {
    "collapsed": false
   },
   "id": "7b03570a8a82fa3f"
  },
  {
   "cell_type": "code",
   "execution_count": null,
   "outputs": [],
   "source": [
    "\n",
    "my_data.make_unit_plots()"
   ],
   "metadata": {
    "collapsed": false
   },
   "id": "d74978e6be85f6ff"
  },
  {
   "cell_type": "code",
   "execution_count": null,
   "outputs": [],
   "source": [
    "my_data.post_sorting()"
   ],
   "metadata": {
    "collapsed": false
   },
   "id": "f4f67190bd96254d"
  }
 ],
 "metadata": {
  "kernelspec": {
   "display_name": "Python 3 (ipykernel)",
   "language": "python",
   "name": "python3"
  },
  "language_info": {
   "codemirror_mode": {
    "name": "ipython",
    "version": 3
   },
   "file_extension": ".py",
   "mimetype": "text/x-python",
   "name": "python",
   "nbconvert_exporter": "python",
   "pygments_lexer": "ipython3",
   "version": "3.9.18"
  }
 },
 "nbformat": 4,
 "nbformat_minor": 5
}
