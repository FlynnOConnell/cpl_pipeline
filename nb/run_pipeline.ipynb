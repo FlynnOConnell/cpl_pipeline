{
 "cells": [
  {
   "cell_type": "markdown",
   "source": [
    "### CPL Data Analysis Pipeline\n",
    "\n",
    "This notebook demonstrates how to use the CPL data analysis pipeline.\n",
    "For instructions on how to install the pipeline, see the README.\n",
    "\n",
    "<br>\n",
    "\n",
    "This pipeline can be started from the shell by running the following command:\n",
    "\n",
    "```bash\n",
    "git clone \n",
    "python -m ~/path/to/cpl_pipeline/repo\n",
    "```\n",
    "\n",
    "Or by opening an IPython terminal and interact with the pipeline using the following commands:\n",
    "\n",
    "```python\n",
    "[1] import cpl_pipeline as cpl\n",
    "[2] my_data_path = Path(r'C:\\Users\\cpl_lab\\data\\session_1')\n",
    "[3] my_data = cpl.Dataset(my_data_path)\n",
    "[4] my_data.initialize_parameters(accept_params=True)\n",
    "[5] my_data.extract_data()\n",
    "[6] my_data.detect_spikes()\n",
    "[7] my_data.cluster_spikes()\n",
    "[8] my_data.sort_spikes(3)  # do this for each electrode\n",
    "[9] my_data.make_unit_plots() # not tested\n",
    "[10] my_data.post_sorting()\n",
    "```\n",
    "\n",
    "---\n",
    "\n",
    "### Steps:\n",
    "1. Initialize a new dataset\n",
    "2. Load a dataset\n",
    "3. Extract data\n",
    "4. Detect spikes\n",
    "5. Cluster spikes\n",
    "6. Sort spikes\n",
    "7. Make plots\n",
    "8. Post sorting"
   ],
   "metadata": {
    "collapsed": false
   },
   "id": "c2f60c0273fa51a0"
  },
  {
   "cell_type": "code",
   "execution_count": null,
   "id": "d49cade562dba2d",
   "metadata": {
    "collapsed": false,
    "ExecuteTime": {
     "end_time": "2024-01-07T18:21:09.212852541Z",
     "start_time": "2024-01-07T18:21:03.909861962Z"
    }
   },
   "outputs": [],
   "source": [
    "# import modules \n",
    "# an error here means there's a problem with the installation\n",
    "# very likely that the environment is not being used\n",
    "\n",
    "%load_ext autoreload\n",
    "%autoreload 2\n",
    "\n",
    "from pathlib import Path  # this takes care of os-specific path issues\n",
    "import cpl_pipeline as cpl\n",
    "\n",
    "\n",
    "# this should be the path to the the directory containing your raw data\n",
    "# for a single session. You can copy-paste this path from the file explorer\n",
    "\n",
    "# Windows:\n",
    "# datapath = Path(r'C:\\Users\\cpl_lab\\data\\session_1')\n",
    "# Mac:\n",
    "# datapath = Path('/Users/cpl_lab/data/session_1')\n",
    "\n",
    "# move the data file to its own directory, if more than one session\n",
    "# is included they will be merged into a single dataset\n",
    "\n",
    "#datapath = Path('/Users/flynnoconnell/data/r35_session_1')  \n",
    "datapath = None # leave as None to open a file explorer menu"
   ]
  },
  {
   "cell_type": "markdown",
   "source": [
    "###  Load or Initialize a dataset\n",
    "\n",
    "Initialize a new dataset by passing the path to the raw data directory to the `Dataset` class."
   ],
   "metadata": {
    "collapsed": false
   },
   "id": "c488d14f44759ffe"
  },
  {
   "cell_type": "code",
   "execution_count": null,
   "outputs": [],
   "source": [
    "my_data = cpl.Dataset(datapath)\n",
    "# my_data.initialize_parameters(accept_params=False)  # you can optionally skip changing parameters\n",
    "# print(my_data)\n",
    "\n",
    "# if you want to load a previously initialized dataset, use load_dataset() instead:\n",
    "# my_data = cpl.load_dataset(datapath)"
   ],
   "metadata": {
    "collapsed": false,
    "ExecuteTime": {
     "start_time": "2024-01-07T18:21:13.844741740Z"
    }
   },
   "id": "19a9b408715c1cb7"
  },
  {
   "cell_type": "markdown",
   "id": "f57a9212ac33b086",
   "metadata": {
    "collapsed": false
   },
   "source": [
    "        if \"best_sequences\" is self.stat_arrays.keys() and recompute == False:\n",
    "            return self.stat_arrays[\"best_sequences\"], self.max_log_prob\n",
    "### 1. Extraction\n",
    "\n",
    "Extract data from the raw data files. This will create a .h5 file as storage for the extracted data."
   ]
  },
  {
   "cell_type": "code",
   "execution_count": null,
   "id": "430d16922714ae48",
   "metadata": {
    "collapsed": false,
    "scrolled": true
   },
   "outputs": [],
   "source": [
    "my_data.extract_data()\n",
    "print(my_data)"
   ]
  },
  {
   "cell_type": "markdown",
   "id": "850a90fb4de01a7b",
   "metadata": {
    "collapsed": false
   },
   "source": [
    "### 2. Detection\n",
    "\n",
    "Turn continuous ADC signal into discrete spike events."
   ]
  },
  {
   "cell_type": "code",
   "execution_count": null,
   "id": "86c09ff4bf7f65a5",
   "metadata": {
    "collapsed": false,
    "scrolled": true
   },
   "outputs": [],
   "source": [
    "# DETECTION ----\n",
    "my_data.detect_spikes()\n",
    "# my_data.edit_clustering_params()"
   ]
  },
  {
   "cell_type": "markdown",
   "id": "68c5203e8952d61c",
   "metadata": {
    "collapsed": false
   },
   "source": [
    "### 3. Clustering\n",
    "\n"
   ]
  },
  {
   "cell_type": "code",
   "execution_count": null,
   "id": "fb5df94940e22017",
   "metadata": {
    "collapsed": false
   },
   "outputs": [],
   "source": [
    "my_data.cluster_spikes()"
   ]
  },
  {
   "cell_type": "markdown",
   "id": "b8a2069fe4436ee7",
   "metadata": {
    "collapsed": false
   },
   "source": [
    "### SORTING"
   ]
  },
  {
   "cell_type": "code",
   "execution_count": null,
   "outputs": [],
   "source": [
    "my_data.sort_spikes(3)  # do this for each electrode"
   ],
   "metadata": {
    "collapsed": false
   },
   "id": "2885f3f22ecf3d42"
  },
  {
   "cell_type": "markdown",
   "source": [
    "### LOAD PICKLED DATA"
   ],
   "metadata": {
    "collapsed": false
   },
   "id": "e843ed6b66ae51af"
  },
  {
   "cell_type": "code",
   "execution_count": null,
   "outputs": [],
   "source": [
    "pickle_path = Path().home() / 'data' / 'serotonin' / 'raw' / 'session_1' / 'session_1_dataset.p'\n",
    "my_obj = cpl.load_pickled_object(pickle_path)"
   ],
   "metadata": {
    "collapsed": false
   },
   "id": "7b03570a8a82fa3f"
  },
  {
   "cell_type": "code",
   "execution_count": null,
   "outputs": [],
   "source": [
    "\n",
    "my_data.make_unit_plots()"
   ],
   "metadata": {
    "collapsed": false
   },
   "id": "d74978e6be85f6ff"
  },
  {
   "cell_type": "code",
   "execution_count": null,
   "outputs": [],
   "source": [
    "my_data.post_sorting()"
   ],
   "metadata": {
    "collapsed": false
   },
   "id": "f4f67190bd96254d"
  }
 ],
 "metadata": {
  "kernelspec": {
   "display_name": "Python 3 (ipykernel)",
   "language": "python",
   "name": "python3"
  },
  "language_info": {
   "codemirror_mode": {
    "name": "ipython",
    "version": 3
   },
   "file_extension": ".py",
   "mimetype": "text/x-python",
   "name": "python",
   "nbconvert_exporter": "python",
   "pygments_lexer": "ipython3",
   "version": "3.9.18"
  }
 },
 "nbformat": 4,
 "nbformat_minor": 5
}
