{
 "cells": [
  {
   "cell_type": "code",
   "execution_count": 1,
   "id": "initial_id",
   "metadata": {
    "ExecuteTime": {
     "end_time": "2023-12-23T17:59:42.663238529Z",
     "start_time": "2023-12-23T17:59:35.191264860Z"
    }
   },
   "outputs": [],
   "source": [
    "%load_ext autoreload\n",
    "%autoreload 2\n",
    "\n",
    "from pathlib import Path\n",
    "import os\n",
    "import sys\n",
    "from pprint import pprint\n",
    "from icecream import ic\n",
    "import cpl_extract as cpl\n",
    "from cpl_extract import gui as cpl_gui"
   ]
  },
  {
   "cell_type": "code",
   "execution_count": 2,
   "id": "d49cade562dba2d",
   "metadata": {
    "collapsed": false,
    "ExecuteTime": {
     "end_time": "2023-12-23T17:59:42.709286677Z",
     "start_time": "2023-12-23T17:59:42.703328919Z"
    }
   },
   "outputs": [],
   "source": [
    "# set Datapath for this recording\n",
    "datapath = Path().home() / 'data' / 'serotonin' / 'raw' / 'session_1'\n",
    "assert datapath.exists()"
   ]
  },
  {
   "cell_type": "code",
   "execution_count": 4,
   "id": "e98aed4245861325",
   "metadata": {
    "ExecuteTime": {
     "end_time": "2023-12-23T17:38:03.406064425Z",
     "start_time": "2023-12-23T17:38:00.693384433Z"
    },
    "collapsed": false
   },
   "outputs": [
    {
     "name": "stdout",
     "output_type": "stream",
     "text": [
      "Using session_1 as name for dataset\n",
      "Using default logfile /home/thom/cpl_extract/logs/session_1_dataset.log.\n",
      "Existing h5 file found. Using /home/thom/data/serotonin/raw/session_1/session_1.h5.\n",
      "Extracting information from Spike2 file\n",
      "   electrode   name  port units  offsets  scales  sampling_rate     SonpyType  \\\n",
      "3          3  U1_OB    26  Volt      0.0     1.0       18518.52  DataType.Adc   \n",
      "4          4  U1_PC    27  Volt      0.0     1.0       18518.52  DataType.Adc   \n",
      "5          5  U2_PC    28  Volt      0.0     1.0       18518.52  DataType.Adc   \n",
      "6          6  U3_PC    29  Volt      0.0     1.0       18518.52  DataType.Adc   \n",
      "\n",
      "   unit    lfp  event  \n",
      "3  True  False  False  \n",
      "4  True  False  False  \n",
      "5  True  False  False  \n",
      "6  True  False  False  \n",
      "Writing all parameters to json file in analysis_params folder...\n",
      "Writing clustering_params.json to /home/thom/data/serotonin/raw/session_1/analysis_params/clustering_params.json\n",
      "Writing spike_array_params.json to /home/thom/data/serotonin/raw/session_1/analysis_params/spike_array_params.json\n",
      "Writing psth_params.json to /home/thom/data/serotonin/raw/session_1/analysis_params/psth_params.json\n",
      "Writing pal_id_params.json to /home/thom/data/serotonin/raw/session_1/analysis_params/pal_id_params.json\n",
      "Saving dataset: session_1... \n",
      "Saving to /home/thom/data/serotonin/raw/session_1/session_1_dataset.p\n"
     ]
    }
   ],
   "source": [
    "# or initialize a new dataset\n",
    "data_quality = \"clean\"  # or \"noisy\", \"hp\"\n",
    "\n",
    "my_data = cpl.Dataset(datapath)\n",
    "my_data.initialize_parameters(accept_params=True)"
   ]
  },
  {
   "cell_type": "code",
   "execution_count": 6,
   "id": "ed7216cf25496eff",
   "metadata": {
    "collapsed": false,
    "scrolled": true,
    "ExecuteTime": {
     "end_time": "2023-12-23T18:01:09.726687609Z",
     "start_time": "2023-12-23T18:01:09.669758359Z"
    }
   },
   "outputs": [
    {
     "name": "stdout",
     "output_type": "stream",
     "text": [
      "dataset :: session_1\n",
      "Root Directory : /home/thom/data/serotonin/raw/session_1\n",
      "Save File : /home/thom/data/serotonin/raw/session_1/session_1_dataset.p\n",
      "Log File : /home/thom/cpl_extract/logs/session_1_dataset.log\n",
      "\n",
      "Object creation date: 12/23/23\n",
      "h5 File: /home/thom/data/serotonin/raw/session_1/session_1.h5\n",
      "\n",
      "--------------------\n",
      "Processing Status\n",
      "--------------------\n",
      "initialize_parameters     True\n",
      "extract_data              False\n",
      "create_trial_list         False\n",
      "mark_dead_channels        False\n",
      "spike_detection           False\n",
      "spike_clustering          False\n",
      "cleanup_clustering        False\n",
      "spike_sorting             False\n",
      "make_unit_plots           False\n",
      "units_similarity          False\n",
      "make_unit_arrays          False\n",
      "make_psth_arrays          False\n",
      "plot_psths                False\n",
      "palatability_calculate    False\n",
      "palatability_plot         False\n",
      "overlay_psth              False\n",
      "\n",
      "\n",
      "--------------------\n",
      "Clustering Parameters\n",
      "--------------------\n",
      "file_dir             /home/thom/data/serotonin/raw/session_1\n",
      "data_quality         clean\n",
      "sampling_rate        18518.52\n",
      "clustering_params    \n",
      "    Max Number of Clusters      12\n",
      "    Max Number of Iterations    5000\n",
      "    Convergence Criterion       1e-05\n",
      "    GMM random restarts         20\n",
      "    \n",
      "data_params          \n",
      "    V_cutoff for disconnected headstage     1500\n",
      "    Max rate of cutoff breach per second    0.2\n",
      "    Max allowed seconds with a breach       10\n",
      "    Max allowed breaches per second         20\n",
      "    Intra-cluster waveform amp SD cutoff    3\n",
      "    \n",
      "bandpass_params      \n",
      "    Lower freq cutoff    300\n",
      "    Upper freq cutoff    3000\n",
      "    \n",
      "spike_snapshot       \n",
      "    Time before spike (ms)    0.75\n",
      "    Time after spike (ms)     1\n",
      "    \n",
      "\n",
      "\n",
      "--------------------\n",
      "Spike Array Parameters\n",
      "--------------------\n",
      "dig_ins_to_use    None\n",
      "laser_channels    None\n",
      "sampling_rate     18518.52\n",
      "pre_stimulus      2000\n",
      "post_stimulus     5000\n",
      "\n",
      "\n",
      "--------------------\n",
      "PSTH Parameters\n",
      "--------------------\n",
      "window_size           250\n",
      "window_step           25\n",
      "plot_pre_stimulus     1000\n",
      "plot_post_stimulus    2500\n",
      "\n",
      "\n",
      "--------------------\n",
      "Palatability/Identity Parameters\n",
      "--------------------\n",
      "window_size              250\n",
      "window_step              25\n",
      "num_comparison_bins      5\n",
      "comparison_bin_size      250\n",
      "discrim_p                0.01\n",
      "pal_deduce_start_time    700\n",
      "pal_deduce_end_time      1200\n",
      "unit_type                Single\n",
      "\n"
     ]
    }
   ],
   "source": [
    "# load the dataset\n",
    "my_data: cpl.Dataset = cpl.load_dataset(datapath)\n",
    "print(my_data)"
   ]
  },
  {
   "cell_type": "markdown",
   "id": "f57a9212ac33b086",
   "metadata": {
    "collapsed": false
   },
   "source": [
    "### EXTRACTION"
   ]
  },
  {
   "cell_type": "code",
   "execution_count": 6,
   "id": "430d16922714ae48",
   "metadata": {
    "ExecuteTime": {
     "end_time": "2023-12-23T17:38:27.208755463Z",
     "start_time": "2023-12-23T17:38:18.370739311Z"
    },
    "collapsed": false,
    "scrolled": true
   },
   "outputs": [
    {
     "name": "stdout",
     "output_type": "stream",
     "text": [
      "Data already extracted. Skipping.\n",
      "dataset :: session_1\n",
      "Root Directory : /home/thom/data/serotonin/raw/session_1\n",
      "Save File : /home/thom/data/serotonin/raw/session_1/session_1_dataset.p\n",
      "Log File : /home/thom/cpl_extract/logs/session_1_dataset.log\n",
      "\n",
      "Object creation date: 12/23/23\n",
      "h5 File: /home/thom/data/serotonin/raw/session_1/session_1.h5\n",
      "\n",
      "--------------------\n",
      "Processing Status\n",
      "--------------------\n",
      "initialize_parameters     True\n",
      "extract_data              False\n",
      "create_trial_list         False\n",
      "mark_dead_channels        False\n",
      "spike_detection           False\n",
      "spike_clustering          False\n",
      "cleanup_clustering        False\n",
      "spike_sorting             False\n",
      "make_unit_plots           False\n",
      "units_similarity          False\n",
      "make_unit_arrays          False\n",
      "make_psth_arrays          False\n",
      "plot_psths                False\n",
      "palatability_calculate    False\n",
      "palatability_plot         False\n",
      "overlay_psth              False\n",
      "\n",
      "\n",
      "--------------------\n",
      "Clustering Parameters\n",
      "--------------------\n",
      "file_dir             /home/thom/data/serotonin/raw/session_1\n",
      "data_quality         clean\n",
      "sampling_rate        18518.52\n",
      "clustering_params    \n",
      "    Max Number of Clusters      12\n",
      "    Max Number of Iterations    5000\n",
      "    Convergence Criterion       1e-05\n",
      "    GMM random restarts         20\n",
      "    \n",
      "data_params          \n",
      "    V_cutoff for disconnected headstage     1500\n",
      "    Max rate of cutoff breach per second    0.2\n",
      "    Max allowed seconds with a breach       10\n",
      "    Max allowed breaches per second         20\n",
      "    Intra-cluster waveform amp SD cutoff    3\n",
      "    \n",
      "bandpass_params      \n",
      "    Lower freq cutoff    300\n",
      "    Upper freq cutoff    3000\n",
      "    \n",
      "spike_snapshot       \n",
      "    Time before spike (ms)    0.75\n",
      "    Time after spike (ms)     1\n",
      "    \n",
      "\n",
      "\n",
      "--------------------\n",
      "Spike Array Parameters\n",
      "--------------------\n",
      "dig_ins_to_use    None\n",
      "laser_channels    None\n",
      "sampling_rate     18518.52\n",
      "pre_stimulus      2000\n",
      "post_stimulus     5000\n",
      "\n",
      "\n",
      "--------------------\n",
      "PSTH Parameters\n",
      "--------------------\n",
      "window_size           250\n",
      "window_step           25\n",
      "plot_pre_stimulus     1000\n",
      "plot_post_stimulus    2500\n",
      "\n",
      "\n",
      "--------------------\n",
      "Palatability/Identity Parameters\n",
      "--------------------\n",
      "window_size              250\n",
      "window_step              25\n",
      "num_comparison_bins      5\n",
      "comparison_bin_size      250\n",
      "discrim_p                0.01\n",
      "pal_deduce_start_time    700\n",
      "pal_deduce_end_time      1200\n",
      "unit_type                Single\n"
     ]
    }
   ],
   "source": [
    "my_data.extract_data()\n",
    "print(my_data)"
   ]
  },
  {
   "cell_type": "markdown",
   "id": "850a90fb4de01a7b",
   "metadata": {
    "collapsed": false
   },
   "source": [
    "### DETECTION"
   ]
  },
  {
   "cell_type": "code",
   "execution_count": 7,
   "id": "86c09ff4bf7f65a5",
   "metadata": {
    "ExecuteTime": {
     "end_time": "2023-12-23T17:41:44.604742485Z",
     "start_time": "2023-12-23T17:41:38.123589261Z"
    },
    "collapsed": false,
    "scrolled": true
   },
   "outputs": [
    {
     "name": "stdout",
     "output_type": "stream",
     "text": [
      "\n",
      "Running Spike Detection\n",
      "-------------------\n",
      "Parameters\n",
      "file_dir             /home/thom/data/serotonin/raw/session_1\n",
      "data_quality         clean\n",
      "sampling_rate        18518.52\n",
      "clustering_params    \n",
      "    Max Number of Clusters      12\n",
      "    Max Number of Iterations    5000\n",
      "    Convergence Criterion       1e-05\n",
      "    GMM random restarts         20\n",
      "    \n",
      "data_params          \n",
      "    V_cutoff for disconnected headstage     1500\n",
      "    Max rate of cutoff breach per second    0.2\n",
      "    Max allowed seconds with a breach       10\n",
      "    Max allowed breaches per second         20\n",
      "    Intra-cluster waveform amp SD cutoff    3\n",
      "    \n",
      "bandpass_params      \n",
      "    Lower freq cutoff    300\n",
      "    Upper freq cutoff    3000\n",
      "    \n",
      "spike_snapshot       \n",
      "    Time before spike (ms)    0.75\n",
      "    Time after spike (ms)     1\n",
      "    \n"
     ]
    },
    {
     "name": "stderr",
     "output_type": "stream",
     "text": [
      "  0%|          | 0/4 [00:00<?, ?it/s]"
     ]
    },
    {
     "name": "stdout",
     "output_type": "stream",
     "text": [
      "Could not find referenced data for 3...running spike detection\n"
     ]
    },
    {
     "name": "stderr",
     "output_type": "stream",
     "text": [
      "\n"
     ]
    },
    {
     "ename": "FileNotFoundError",
     "evalue": "Could not find referenced data for 3 in /home/thom/data/serotonin/raw/session_1",
     "output_type": "error",
     "traceback": [
      "\u001B[0;31m---------------------------------------------------------------------------\u001B[0m",
      "\u001B[0;31mFileNotFoundError\u001B[0m                         Traceback (most recent call last)",
      "Cell \u001B[0;32mIn[7], line 2\u001B[0m\n\u001B[1;32m      1\u001B[0m \u001B[38;5;66;03m# DETECTION ----\u001B[39;00m\n\u001B[0;32m----> 2\u001B[0m \u001B[43mmy_data\u001B[49m\u001B[38;5;241;43m.\u001B[39;49m\u001B[43mdetect_spikes\u001B[49m\u001B[43m(\u001B[49m\u001B[43m)\u001B[49m\n\u001B[1;32m      3\u001B[0m \u001B[38;5;66;03m# my_data.edit_clustering_params()\u001B[39;00m\n",
      "File \u001B[0;32m~/repos/cpl_extract/cpl_extract/base/dataset.py:703\u001B[0m, in \u001B[0;36mDataset.detect_spikes\u001B[0;34m(self, data_quality, multi_process, n_cores)\u001B[0m\n\u001B[1;32m    699\u001B[0m     spike_detectors \u001B[38;5;241m=\u001B[39m [\n\u001B[1;32m    700\u001B[0m         clust\u001B[38;5;241m.\u001B[39mSpikeDetection(data_dir, x, \u001B[38;5;28mself\u001B[39m\u001B[38;5;241m.\u001B[39mclustering_params) \u001B[38;5;28;01mfor\u001B[39;00m x \u001B[38;5;129;01min\u001B[39;00m electrodes\n\u001B[1;32m    701\u001B[0m     ]\n\u001B[1;32m    702\u001B[0m     \u001B[38;5;28;01mfor\u001B[39;00m sd \u001B[38;5;129;01min\u001B[39;00m tqdm(spike_detectors):\n\u001B[0;32m--> 703\u001B[0m         res \u001B[38;5;241m=\u001B[39m \u001B[43msd\u001B[49m\u001B[38;5;241;43m.\u001B[39;49m\u001B[43mrun\u001B[49m\u001B[43m(\u001B[49m\u001B[43m)\u001B[49m\n\u001B[1;32m    704\u001B[0m         results[res[\u001B[38;5;241m0\u001B[39m]] \u001B[38;5;241m=\u001B[39m res\n\u001B[1;32m    706\u001B[0m \u001B[38;5;28mprint\u001B[39m(\u001B[38;5;124m\"\u001B[39m\u001B[38;5;124melectrode    Result    Cutoff (s)\u001B[39m\u001B[38;5;124m\"\u001B[39m)\n",
      "File \u001B[0;32m~/repos/cpl_extract/cpl_extract/analysis/cluster.py:720\u001B[0m, in \u001B[0;36mSpikeDetection.run\u001B[0;34m(self)\u001B[0m\n\u001B[1;32m    718\u001B[0m ref_el \u001B[38;5;241m=\u001B[39m h5io\u001B[38;5;241m.\u001B[39mget_raw_trace(rec_dir\u001B[38;5;241m=\u001B[39mfile_dir, chan_idx\u001B[38;5;241m=\u001B[39melectrode)\n\u001B[1;32m    719\u001B[0m \u001B[38;5;28;01mif\u001B[39;00m ref_el \u001B[38;5;129;01mis\u001B[39;00m \u001B[38;5;28;01mNone\u001B[39;00m:\n\u001B[0;32m--> 720\u001B[0m     \u001B[38;5;28;01mraise\u001B[39;00m \u001B[38;5;167;01mFileNotFoundError\u001B[39;00m(\u001B[38;5;124mf\u001B[39m\u001B[38;5;124m\"\u001B[39m\u001B[38;5;124mCould not find referenced data for \u001B[39m\u001B[38;5;132;01m{\u001B[39;00melectrode\u001B[38;5;132;01m}\u001B[39;00m\u001B[38;5;124m in \u001B[39m\u001B[38;5;132;01m{\u001B[39;00mfile_dir\u001B[38;5;132;01m}\u001B[39;00m\u001B[38;5;124m\"\u001B[39m)\n\u001B[1;32m    722\u001B[0m \u001B[38;5;66;03m# Filter electrode trace\u001B[39;00m\n\u001B[1;32m    723\u001B[0m filt_el \u001B[38;5;241m=\u001B[39m get_filtered_electrode(ref_el, freq\u001B[38;5;241m=\u001B[39mparams[\u001B[38;5;124m\"\u001B[39m\u001B[38;5;124mbandpass\u001B[39m\u001B[38;5;124m\"\u001B[39m], sampling_rate\u001B[38;5;241m=\u001B[39mparams[\u001B[38;5;124m\"\u001B[39m\u001B[38;5;124msampling_rate\u001B[39m\u001B[38;5;124m\"\u001B[39m])\n",
      "\u001B[0;31mFileNotFoundError\u001B[0m: Could not find referenced data for 3 in /home/thom/data/serotonin/raw/session_1"
     ]
    }
   ],
   "source": [
    "# DETECTION ----\n",
    "my_data.detect_spikes()\n",
    "# my_data.edit_clustering_params()"
   ]
  },
  {
   "cell_type": "markdown",
   "id": "68c5203e8952d61c",
   "metadata": {
    "collapsed": false
   },
   "source": [
    "### CLUSTERING"
   ]
  },
  {
   "cell_type": "code",
   "execution_count": 5,
   "id": "fb5df94940e22017",
   "metadata": {
    "collapsed": false,
    "ExecuteTime": {
     "end_time": "2023-12-23T18:00:47.116332816Z",
     "start_time": "2023-12-23T18:00:47.019550789Z"
    }
   },
   "outputs": [
    {
     "ename": "FileNotFoundError",
     "evalue": "Must run spike detection before clustering.",
     "output_type": "error",
     "traceback": [
      "\u001B[0;31m---------------------------------------------------------------------------\u001B[0m",
      "\u001B[0;31mFileNotFoundError\u001B[0m                         Traceback (most recent call last)",
      "Cell \u001B[0;32mIn[5], line 1\u001B[0m\n\u001B[0;32m----> 1\u001B[0m \u001B[43mmy_data\u001B[49m\u001B[38;5;241;43m.\u001B[39;49m\u001B[43mcluster_spikes\u001B[49m\u001B[43m(\u001B[49m\u001B[43m)\u001B[49m\n",
      "File \u001B[0;32m~/repos/cpl_extract/cpl_extract/base/dataset.py:747\u001B[0m, in \u001B[0;36mDataset.cluster_spikes\u001B[0;34m(self, data_quality, multi_process, n_cores, umap, accept_params)\u001B[0m\n\u001B[1;32m    732\u001B[0m \u001B[38;5;250m\u001B[39m\u001B[38;5;124;03m\"\"\"\u001B[39;00m\n\u001B[1;32m    733\u001B[0m \u001B[38;5;124;03mWrite clustering parameters to file and\u001B[39;00m\n\u001B[1;32m    734\u001B[0m \u001B[38;5;124;03mRun process on each electrode using GNU parallel\u001B[39;00m\n\u001B[0;32m   (...)\u001B[0m\n\u001B[1;32m    744\u001B[0m \u001B[38;5;124;03m    running\u001B[39;00m\n\u001B[1;32m    745\u001B[0m \u001B[38;5;124;03m\"\"\"\u001B[39;00m\n\u001B[1;32m    746\u001B[0m \u001B[38;5;28;01mif\u001B[39;00m \u001B[38;5;129;01mnot\u001B[39;00m \u001B[38;5;28mself\u001B[39m\u001B[38;5;241m.\u001B[39mprocess_status[\u001B[38;5;124m\"\u001B[39m\u001B[38;5;124mspike_detection\u001B[39m\u001B[38;5;124m\"\u001B[39m]:\n\u001B[0;32m--> 747\u001B[0m     \u001B[38;5;28;01mraise\u001B[39;00m \u001B[38;5;167;01mFileNotFoundError\u001B[39;00m(\u001B[38;5;124m\"\u001B[39m\u001B[38;5;124mMust run spike detection before clustering.\u001B[39m\u001B[38;5;124m\"\u001B[39m)\n\u001B[1;32m    749\u001B[0m \u001B[38;5;28;01mif\u001B[39;00m data_quality:\n\u001B[1;32m    750\u001B[0m     tmp \u001B[38;5;241m=\u001B[39m load_params(\n\u001B[1;32m    751\u001B[0m         \u001B[38;5;124m\"\u001B[39m\u001B[38;5;124mclustering_params\u001B[39m\u001B[38;5;124m\"\u001B[39m, \u001B[38;5;28mself\u001B[39m\u001B[38;5;241m.\u001B[39mroot_dir, default_keyword\u001B[38;5;241m=\u001B[39mdata_quality\n\u001B[1;32m    752\u001B[0m     )\n",
      "\u001B[0;31mFileNotFoundError\u001B[0m: Must run spike detection before clustering."
     ]
    }
   ],
   "source": [
    "my_data.cluster_spikes()"
   ]
  },
  {
   "cell_type": "markdown",
   "id": "b8a2069fe4436ee7",
   "metadata": {
    "collapsed": false
   },
   "source": [
    "### SORTING"
   ]
  },
  {
   "cell_type": "code",
   "execution_count": 4,
   "id": "2885f3f22ecf3d42",
   "metadata": {
    "collapsed": false,
    "ExecuteTime": {
     "end_time": "2023-12-23T18:00:43.070033206Z",
     "start_time": "2023-12-23T18:00:42.420358550Z"
    }
   },
   "outputs": [
    {
     "ename": "ValueError",
     "evalue": "Must run spike clustering first.",
     "output_type": "error",
     "traceback": [
      "\u001B[0;31m---------------------------------------------------------------------------\u001B[0m",
      "\u001B[0;31mValueError\u001B[0m                                Traceback (most recent call last)",
      "Cell \u001B[0;32mIn[4], line 1\u001B[0m\n\u001B[0;32m----> 1\u001B[0m \u001B[43mmy_data\u001B[49m\u001B[38;5;241;43m.\u001B[39;49m\u001B[43msort_spikes\u001B[49m\u001B[43m(\u001B[49m\u001B[38;5;241;43m5\u001B[39;49m\u001B[43m)\u001B[49m\n",
      "File \u001B[0;32m~/repos/cpl_extract/cpl_extract/base/dataset.py:839\u001B[0m, in \u001B[0;36mDataset.sort_spikes\u001B[0;34m(self, electrode, all_electrodes, shell)\u001B[0m\n\u001B[1;32m    836\u001B[0m     electrode \u001B[38;5;241m=\u001B[39m \u001B[38;5;28mint\u001B[39m(electrode)\n\u001B[1;32m    838\u001B[0m \u001B[38;5;28;01mif\u001B[39;00m \u001B[38;5;129;01mnot\u001B[39;00m \u001B[38;5;28mself\u001B[39m\u001B[38;5;241m.\u001B[39mprocess_status[\u001B[38;5;124m\"\u001B[39m\u001B[38;5;124mspike_clustering\u001B[39m\u001B[38;5;124m\"\u001B[39m]:\n\u001B[0;32m--> 839\u001B[0m     \u001B[38;5;28;01mraise\u001B[39;00m \u001B[38;5;167;01mValueError\u001B[39;00m(\u001B[38;5;124m\"\u001B[39m\u001B[38;5;124mMust run spike clustering first.\u001B[39m\u001B[38;5;124m\"\u001B[39m)\n\u001B[1;32m    841\u001B[0m \u001B[38;5;28;01mif\u001B[39;00m \u001B[38;5;129;01mnot\u001B[39;00m \u001B[38;5;28mself\u001B[39m\u001B[38;5;241m.\u001B[39mprocess_status[\u001B[38;5;124m\"\u001B[39m\u001B[38;5;124mcleanup_clustering\u001B[39m\u001B[38;5;124m\"\u001B[39m]:\n\u001B[1;32m    842\u001B[0m     \u001B[38;5;28mself\u001B[39m\u001B[38;5;241m.\u001B[39mcleanup_clustering()\n",
      "\u001B[0;31mValueError\u001B[0m: Must run spike clustering first."
     ]
    }
   ],
   "source": [
    "my_data.sort_spikes(5)"
   ]
  },
  {
   "cell_type": "code",
   "execution_count": null,
   "outputs": [],
   "source": [],
   "metadata": {
    "collapsed": false
   },
   "id": "7b03570a8a82fa3f"
  }
 ],
 "metadata": {
  "kernelspec": {
   "display_name": "Python 3 (ipykernel)",
   "language": "python",
   "name": "python3"
  },
  "language_info": {
   "codemirror_mode": {
    "name": "ipython",
    "version": 3
   },
   "file_extension": ".py",
   "mimetype": "text/x-python",
   "name": "python",
   "nbconvert_exporter": "python",
   "pygments_lexer": "ipython3",
   "version": "3.9.18"
  }
 },
 "nbformat": 4,
 "nbformat_minor": 5
}
